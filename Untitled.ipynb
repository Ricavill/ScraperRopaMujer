{
 "cells": [
  {
   "cell_type": "code",
   "execution_count": 1,
   "id": "f2de597b",
   "metadata": {},
   "outputs": [],
   "source": [
    "import csv\n",
    "from getpass import getpass\n",
    "from time import sleep\n",
    "from selenium.webdriver.common.keys import Keys\n",
    "from selenium import webdriver\n",
    "from selenium.common.exceptions import NoSuchElementException\n",
    "from selenium.webdriver.common.by import By\n",
    "from selenium.webdriver.chrome.service import Service\n",
    "import urllib\n",
    "import os\n",
    "import time\n",
    "\n",
    "#from msedge.selenium_tools import Edge, EdgeOptions"
   ]
  },
  {
   "cell_type": "code",
   "execution_count": 2,
   "id": "25d99235",
   "metadata": {},
   "outputs": [],
   "source": [
    "save_folder=\"FotosUnity\""
   ]
  },
  {
   "cell_type": "code",
   "execution_count": 3,
   "id": "275ec712",
   "metadata": {},
   "outputs": [],
   "source": [
    "options = webdriver.ChromeOptions()\n",
    "options.add_argument('ignore-certificate-errors')"
   ]
  },
  {
   "cell_type": "code",
   "execution_count": 6,
   "id": "19bb5436",
   "metadata": {},
   "outputs": [],
   "source": [
    "service = Service(executable_path=r'C:\\Users\\Ricardo\\Documents\\GitHub\\scraper\\ScraperRopaMujer\\chromedriver.exe')\n",
    "driver = webdriver.Chrome(service=service)#OJO CON ESTO, AQUI DEBEN PONER EL PATH DE CHROMEDRIVER\n",
    "driver.get(\"https://www.google.com\")"
   ]
  },
  {
   "cell_type": "code",
   "execution_count": null,
   "id": "ea53f558",
   "metadata": {},
   "outputs": [],
   "source": []
  },
  {
   "cell_type": "code",
   "execution_count": 7,
   "id": "a08ff1ac",
   "metadata": {},
   "outputs": [
    {
     "name": "stderr",
     "output_type": "stream",
     "text": [
      "C:\\Users\\Ricardo\\AppData\\Local\\Temp/ipykernel_14996/3952956131.py:14: DeprecationWarning: find_elements_by_* commands are deprecated. Please use find_elements() instead\n",
      "  sub=driver.find_elements_by_xpath('//div[@class=\"product-item\"]/a/img')\n"
     ]
    },
    {
     "name": "stdout",
     "output_type": "stream",
     "text": [
      "https://www.modarm.com/medias/000005000000855608-1200x1200-0.jpg?context=bWFzdGVyfGltYWdlc3wzNzQwNTl8aW1hZ2UvanBlZ3xoYmUvaGZjLzEyNDU1MTExMTYzOTM0LzAwMDAwNTAwMDAwMDg1NTYwOC0xMjAweDEyMDBfMC5qcGd8MGI1YWEzYTQ0MzVmOGFjZmNhY2I4ZjZkZDUyMDQ1ZmIzZWI1ZGFiN2VhNGZmYzVmMzEyMmQ4NTE3OTdiMWUwMA\n",
      "https://www.modarm.com/medias/000005000000873836-1200x1200-0.jpg?context=bWFzdGVyfGltYWdlc3wzOTg5ODN8aW1hZ2UvanBlZ3xoZjAvaGYzLzE0NDI3NjY2NjEyMjU0LzAwMDAwNTAwMDAwMDg3MzgzNi0xMjAweDEyMDBfMC5qcGd8OWQwMWY4Y2QwMTVkMGE2YjhkNmM5OTBhYmE0NWQ4MWY4OTc3MWI2MDdkYjQ3ZTM5M2UyZDEyMzUwYzNhODFkZA\n",
      "https://www.modarm.com/medias/000005000000872339-1200x1200-0.jpg?context=bWFzdGVyfGltYWdlc3w0MzU5NTB8aW1hZ2UvanBlZ3xoZTcvaGFmLzE0NDI5NjExMjI5MjE0LzAwMDAwNTAwMDAwMDg3MjMzOS0xMjAweDEyMDBfMC5qcGd8MjdkOTVkMTMwMDM4ODA3ZjgyYTE4ZGY0NzViZTNmMmRjNThhMmVlODEzODA2MzAyZTExYzg5YTg2NDdmODhkMw\n",
      "https://www.modarm.com/medias/000005000000836140-1200x1200-0.jpg?context=bWFzdGVyfGltYWdlc3wyOTYzNDZ8aW1hZ2UvanBlZ3xoOTkvaGVjLzk1MDY2ODU1ODMzOTAvMDAwMDA1MDAwMDAwODM2MTQwLTEyMDB4MTIwMF8wLmpwZ3xmNTU0ZDhhYWExZGRiOGQ1MjI2NTVkMDYyMmYyYjhiY2JjZjA5NGJhZjllOGIzYmFkMWZlMTNkZmE4OTMxN2I0\n",
      "https://www.modarm.com/medias/000005000000832262-1200x1200-0.jpg?context=bWFzdGVyfGltYWdlc3wzNzIwMDR8aW1hZ2UvanBlZ3xoYjEvaDFlLzk2OTUxNDQ3NzE2MTQvMDAwMDA1MDAwMDAwODMyMjYyLTEyMDB4MTIwMF8wLmpwZ3xlMTJhZGM4NTU3MTAzY2Y4MzRjMmZhYTkyMjg0NmJlMjcwOGFhYmM0NzAyZDk2Nzg2NDg1OTRjNWI0MzY1YjA3\n",
      "https://www.modarm.com/medias/000005000000865536-1200x1200-0.jpg?context=bWFzdGVyfGltYWdlc3wzMjgxNzB8aW1hZ2UvanBlZ3xoZGQvaGViLzE0MTIyMzM1MDEwODQ2LzAwMDAwNTAwMDAwMDg2NTUzNi0xMjAweDEyMDBfMC5qcGd8ZWNlOWVkMjNkNWMzN2U0NGU2YzAwYjUyMmQxOWM1YTdiYjQ3YjMxOGM2MGE4YTc4N2FlYjk2MjBlMzk4ZmQyNA\n",
      "https://www.modarm.com/medias/000005000000865534-1200x1200-0.jpg?context=bWFzdGVyfGltYWdlc3wzMzUxNzd8aW1hZ2UvanBlZ3xoZTEvaGViLzE0MDQxNTA5ODIyNDk0LzAwMDAwNTAwMDAwMDg2NTUzNC0xMjAweDEyMDBfMC5qcGd8MWEyMDBjNjYwODkwMzJhZTFhOTE4ZTAxMDdiNTBhOWJlODdjNWQ2NDk5YTk1ODI3M2JkZDg4YTdiOTA0NGFhOQ\n",
      "https://www.modarm.com/medias/000005000000865424-1200x1200-0.jpg?context=bWFzdGVyfGltYWdlc3w0ODg3Mjl8aW1hZ2UvanBlZ3xoNzQvaDlhLzE0MDQxMzY5MjgwNTQyLzAwMDAwNTAwMDAwMDg2NTQyNC0xMjAweDEyMDBfMC5qcGd8Y2UyYzIxYjUxMGFlMGRlODQ3ZDkzNjNkNzViOTZkY2Y1ZTVlZDY3NmQ2OWRkY2EzMjk4N2YxMjY1YmViOGI4NQ\n",
      "https://www.modarm.com/medias/000005000000881911-1200x1200-0.jpg?context=bWFzdGVyfGltYWdlc3wzMTI3NjN8aW1hZ2UvanBlZ3xoY2EvaGM3LzEzNjc2NzgzODI5MDIyLzAwMDAwNTAwMDAwMDg4MTkxMS0xMjAweDEyMDBfMC5qcGd8YzEyZmQyNWMyZjRiNjNkODJhM2M4NzVjOGQ4OWM5NmViNDE3NWFiMWJiODY5NGNkM2Y3YWY0NGNiYzE5MmEyNw\n",
      "https://www.modarm.com/medias/000005000000879125-1200x1200-0.jpg?context=bWFzdGVyfGltYWdlc3w0MzEwMTF8aW1hZ2UvanBlZ3xoN2MvaDBkLzEzNDI3MTQyMTk3Mjc4LzAwMDAwNTAwMDAwMDg3OTEyNS0xMjAweDEyMDBfMC5qcGd8MzlhMjM4MzU1Yzc4OTljZjQxNjBlYzdkOTI2ZDlmODU1YzU4NTkxNWZjMDYyMWI2N2NkMDJkNDkwMDQ0YmM0Ng\n",
      "https://www.modarm.com/medias/000005000000879126-1200x1200-0.jpg?context=bWFzdGVyfGltYWdlc3wxOTkyNjF8aW1hZ2UvanBlZ3xoN2UvaDMxLzEzNDI3MDY2MzA2NTkwLzAwMDAwNTAwMDAwMDg3OTEyNi0xMjAweDEyMDBfMC5qcGd8YzYxZGMyNDYwNWE2YWUxZDA3NTQ2OGY5ZDg4NjYxZjk3Mjc1NTFiZjllNWE3MzNlOWM1MDM1NzNiMjBkZjQ0Zg\n",
      "https://www.modarm.com/medias/000005000000876703-1200x1200-0.jpg?context=bWFzdGVyfGltYWdlc3wzNzcxNzh8aW1hZ2UvanBlZ3xoZjkvaDE3LzE0MjAwMzMzNjY0Mjg2LzAwMDAwNTAwMDAwMDg3NjcwMy0xMjAweDEyMDBfMC5qcGd8MzcwZjFlMjBiYzljMzA1ZWQ1Y2NmYTM5MzA4NjNiYThlNjU4NzhkM2JiMzBhYWJhODI1OTQwODYxZDMyOTk3Ng\n",
      "https://www.modarm.com/medias/000005000000876699-1200x1200-0.jpg?context=bWFzdGVyfGltYWdlc3w0NzIzNDJ8aW1hZ2UvanBlZ3xoYzgvaDJkLzE0MjAwMjY0OTE3MDIyLzAwMDAwNTAwMDAwMDg3NjY5OS0xMjAweDEyMDBfMC5qcGd8MTRlZGYzMjYxMGRiNDJjMWRhYjUwMjNlMzc0YzJmN2IzZWEwZTMzNzI5ODlmNmNjNWM5MDFiYTY3MGIxODk2Zg\n",
      "https://www.modarm.com/medias/000005000000875335-1200x1200-0.jpg?context=bWFzdGVyfGltYWdlc3wzODg4NDJ8aW1hZ2UvanBlZ3xoNTIvaDI1LzE0MTIyMTcwNTgxMDIyLzAwMDAwNTAwMDAwMDg3NTMzNS0xMjAweDEyMDBfMC5qcGd8NDllOGFiZDc4MjAxYzU4YTI2ZWRmOWViNDlhMTI0MGJhODkwN2M2ZWE1MjU1NTU4ZDBlZGZmOTBhMTk0YTM2MQ\n",
      "https://www.modarm.com/medias/000005000000875222-1200x1200-0.jpg?context=bWFzdGVyfGltYWdlc3w0MzM5MzR8aW1hZ2UvanBlZ3xoM2YvaDU0LzEzODQ1NjkxODI2MjA2LzAwMDAwNTAwMDAwMDg3NTIyMi0xMjAweDEyMDBfMC5qcGd8N2ZjOTk1OWZkMTY0YmFkMDJhN2VmZmRhNTllZDZjNTE4ZjEzYzA1NDlhZWZkZDY3ZjU0MGYyYzBjMTVlN2Y2ZQ\n",
      "https://www.modarm.com/medias/000005000000875340-1200x1200-0.jpg?context=bWFzdGVyfGltYWdlc3wzMzU0Nzd8aW1hZ2UvanBlZ3xoNjkvaDFkLzE0MDg0MDY4MjQ1NTM0LzAwMDAwNTAwMDAwMDg3NTM0MC0xMjAweDEyMDBfMC5qcGd8Yzc5ZjIzMDJiOWU5N2U5YjZmOGE2ZDVlNTFlNzg4MGY1MGIwMGUwMzkyZjRkYTZmZjMwNmVhMjdjNTQwODZiMg\n",
      "https://www.modarm.com/medias/000005000000875221-1200x1200-0.jpg?context=bWFzdGVyfGltYWdlc3w0MzczNzh8aW1hZ2UvanBlZ3xoNjEvaGI5LzEzODQ1NzQ5NzYwMDMwLzAwMDAwNTAwMDAwMDg3NTIyMS0xMjAweDEyMDBfMC5qcGd8OGNjMmMyN2NhNGE0Y2ZlM2Y5YWMwODNhYWVhMmJjNzViNzUxMTNiYWMwODQ3NDdhNjM1Mjc0MDFkMTRhYjA0Yg\n",
      "https://www.modarm.com/medias/000005000000875339-1200x1200-1.jpg?context=bWFzdGVyfGltYWdlc3wzMjgyODJ8aW1hZ2UvanBlZ3xoMjMvaDk0LzE0MDg1MTY3NTQ2Mzk4LzAwMDAwNTAwMDAwMDg3NTMzOS0xMjAweDEyMDBfMS5qcGd8YWEwZjFiMDM2OGM5YmEwNTYwM2FjYzE1NTUxMzliZGFmNDA1OTc5N2E3ZDJmNmM3MDU2NTk2MjFmNTJiYTlkZg\n",
      "https://www.modarm.com/medias/000005000000875338-1200x1200-0.jpg?context=bWFzdGVyfGltYWdlc3w2MTY3Njh8aW1hZ2UvanBlZ3xoNGIvaDg5LzE0MDg1MjcyOTYxMDU0LzAwMDAwNTAwMDAwMDg3NTMzOC0xMjAweDEyMDBfMC5qcGd8NWJmZTI1NDY0MmUxOGE0ZjE2YjlkN2RlMzI0MDEwOGU2NWJlMzc5MmFiYmI2ZTYzYWM3ZmM5NDJkMjEwMWJmMw\n",
      "https://www.modarm.com/medias/000005000000875337-1200x1200-0.jpg?context=bWFzdGVyfGltYWdlc3w2NjI1NDF8aW1hZ2UvanBlZ3xoZjIvaGE3LzE0MDg0MDczNDIyODc4LzAwMDAwNTAwMDAwMDg3NTMzNy0xMjAweDEyMDBfMC5qcGd8N2Q4MmY0YmIxMmY2NDZiODIzYjQxMjg5MjFlMTJiZmEyZTgwOGFhMWMxOWNlNTMzMzQ0M2FjMGZhOWU4Y2RhNQ\n",
      "https://www.modarm.com/medias/000005000000875336-1200x1200-0.jpg?context=bWFzdGVyfGltYWdlc3wzMTY2MjB8aW1hZ2UvanBlZ3xoMTEvaDhjLzE0MTIyMjU1NTE1Njc4LzAwMDAwNTAwMDAwMDg3NTMzNi0xMjAweDEyMDBfMC5qcGd8NmY0ZjY0ZWQ2Mjg1OTNiYzIwY2RjNTVmMWJiNGE5Y2VhNWU3MmY2OGIyMmIxNmY3ZTdjN2RkYmJmYzk5NWU2Yg\n",
      "https://www.modarm.com/medias/000005000000874116-1200x1200-0.jpg?context=bWFzdGVyfGltYWdlc3wzMTEwMzJ8aW1hZ2UvanBlZ3xoMzUvaDljLzE0MDAyMjM1MTEzNTAyLzAwMDAwNTAwMDAwMDg3NDExNi0xMjAweDEyMDBfMC5qcGd8MDY2NzBiZTY0ZWEzYTM2OGRlNGQ3ZjgxMmYzZTNjNjg5YWU5MzYxMGNjNjRmNzgyMmNjNjUwOTc3MmI0YTY3Zg\n",
      "https://www.modarm.com/medias/000005000000874115-1200x1200-0.jpg?context=bWFzdGVyfGltYWdlc3wzMTE0NDB8aW1hZ2UvanBlZ3xoNDUvaDkxLzE0MDQxMzcwODUzNDA2LzAwMDAwNTAwMDAwMDg3NDExNS0xMjAweDEyMDBfMC5qcGd8MDA5MDdiODNiYzg1MzBmY2NiNTNmNTg3OGJmNzU4NjY3Yjc3MzQwM2QxNTRkY2FjOGQ0ODkwY2NjMTEzOGQ5Nw\n",
      "https://www.modarm.com/medias/000005000000874114-1200x1200-0.jpg?context=bWFzdGVyfGltYWdlc3wzOTEyOTh8aW1hZ2UvanBlZ3xoYTAvaDcxLzE0MDAyMTg4MzIwNzk4LzAwMDAwNTAwMDAwMDg3NDExNC0xMjAweDEyMDBfMC5qcGd8YjUyYjdlMGVmNDFhYjIyZmJjYWEzN2EzMjYyMDkwMWU4YzI4NTcwYjEyNWJlYzIzMDJhMTA1ZGZhMWZmMWE1ZA\n",
      "https://www.modarm.com/medias/000005000000873835-1200x1200-0.jpg?context=bWFzdGVyfGltYWdlc3wyOTk5MTZ8aW1hZ2UvanBlZ3xoNmQvaDc3LzE0MjAwNDIxMDU2NTQyLzAwMDAwNTAwMDAwMDg3MzgzNS0xMjAweDEyMDBfMC5qcGd8YmI0M2E4ZDI3N2NmY2EwZjI1MWZiYmY4NWZmYmZhMTUxMWRjY2Y4NzQ1NDgxYzc4MDFhZmQ4OWVmZDU2OGM0MQ\n",
      "https://www.modarm.com/medias/000005000000873834-1200x1200-0.jpg?context=bWFzdGVyfGltYWdlc3wzNzM5NjF8aW1hZ2UvanBlZ3xoNjEvaDk4LzE0MTU4NzgwODU4Mzk4LzAwMDAwNTAwMDAwMDg3MzgzNC0xMjAweDEyMDBfMC5qcGd8NzljOWExMWY3YjFkOWJkNGY0Mzk1YWJkMGYzNzEzYTk4ZjRkMjI3NmM5NmUxODliN2ExY2M2MDM3NGUzYWJlYw\n",
      "https://www.modarm.com/medias/000005000000873833-1200x1200-0.jpg?context=bWFzdGVyfGltYWdlc3wzNTA4MTF8aW1hZ2UvanBlZ3xoMDQvaGMwLzE0MTU4OTQ0MzA1MTgyLzAwMDAwNTAwMDAwMDg3MzgzMy0xMjAweDEyMDBfMC5qcGd8Y2VmNDkyMzhiM2VlNjQ5MTQ2YmFmZjhiZmVjNTY4ZDVlY2I0MGEyZGFmYWZlZDZmYTQyMDc5MTFmNGNmYjkxMQ\n",
      "https://www.modarm.com/medias/000005000000846898-1200x1200-0.jpg?context=bWFzdGVyfGltYWdlc3wzMzUyNTR8aW1hZ2UvanBlZ3xoZjYvaDhhLzExNTAyMzE3NzMxODcwLzAwMDAwNTAwMDAwMDg0Njg5OC0xMjAweDEyMDBfMC5qcGd8OGQ3NWEyNTI0YjgxYWJhOTRkMDk3MDI2OWQyNTMwOTkwYmM2YTQyMDZjYWExMDIxNTE5YTk3Y2U2OTk5NGY5MA\n",
      "https://www.modarm.com/medias/000005000000873283-1200x1200-0.jpg?context=bWFzdGVyfGltYWdlc3wzOTA2Nzl8aW1hZ2UvanBlZ3xoNjgvaDA5LzEzMjQ4NTYxMzgxNDA2LzAwMDAwNTAwMDAwMDg3MzI4My0xMjAweDEyMDBfMC5qcGd8ZjM3ODEyZmNjMzFlNzNjMGRlMTgyOTMyY2E1NzE4ZDdmYTJjNTJiYWIyNjM3OTU3YWJiMTQxNzRmMzYwZjE2Zg\n",
      "https://www.modarm.com/medias/000005000000873282-1200x1200-0.jpg?context=bWFzdGVyfGltYWdlc3wzNTc2MDh8aW1hZ2UvanBlZ3xoYWYvaDU0LzEzMzIxODMzNzc1MTM0LzAwMDAwNTAwMDAwMDg3MzI4Mi0xMjAweDEyMDBfMC5qcGd8M2NhNGU5YzQ2MmNjNzY3Zjg3OTA4ZDNmNDY4ZWE2MWU0YjdlMjY0MDkzMjYzZTRmYzRmNTVhODM0MmQ0NTMzMA\n"
     ]
    },
    {
     "name": "stdout",
     "output_type": "stream",
     "text": [
      "https://www.modarm.com/medias/000005000000872458-1200x1200-0.jpg?context=bWFzdGVyfGltYWdlc3w1NTY3NDh8aW1hZ2UvanBlZ3xoODYvaDZkLzEzODQ1Njc4NjIwNzAyLzAwMDAwNTAwMDAwMDg3MjQ1OC0xMjAweDEyMDBfMC5qcGd8OGNmMDkwYjVkMDI5NGU2ZGM0MzQ0MjdlN2RiNTdhMzUxM2U4MzFlZTFmNjJmYmRhNDFhNzU1ZDMwMjM1ZTE4ZA\n",
      "https://www.modarm.com/medias/000005000000872456-1200x1200-0.jpg?context=bWFzdGVyfGltYWdlc3wzOTkwNzF8aW1hZ2UvanBlZ3xoYzYvaGM4LzEzODQ1NjY5OTY5OTUwLzAwMDAwNTAwMDAwMDg3MjQ1Ni0xMjAweDEyMDBfMC5qcGd8MjA1ZDVjZmQ5OWEyOTM1NTFmMDAzZWY5NTUwMjhmMTU0NmFlM2Y0MTIwYTI3NmEzYzdmNTk2NDY1MmFiZWFhZQ\n",
      "https://www.modarm.com/medias/000005000000872455-1200x1200-0.jpg?context=bWFzdGVyfGltYWdlc3wzMTA0OTN8aW1hZ2UvanBlZ3xoNGMvaDk0LzEzODQ1NzIzNDE0NTU4LzAwMDAwNTAwMDAwMDg3MjQ1NS0xMjAweDEyMDBfMC5qcGd8MWJiODJmZWE4NDhkN2RlMGU5MTEwMWNhNjNhZWJkZTE2YWZkMmUzY2RmZWUwYjg0M2U0MmNmM2ZkNjRkYmNjMQ\n",
      "https://www.modarm.com/medias/000005000000872340-1200x1200-0.jpg?context=bWFzdGVyfGltYWdlc3wzNzI1MTZ8aW1hZ2UvanBlZ3xoMTUvaDI2LzE0MTU4ODY5ODg5MDU0LzAwMDAwNTAwMDAwMDg3MjM0MC0xMjAweDEyMDBfMC5qcGd8MmM0MTA3YjYzZWQ0M2Q0N2FiZjJmNTQ4OWNjYmMyNWE2ZGI5ZWZiYzkxNDhhOTA4N2VlMTBiZmE2Y2IwYWU1ZQ\n",
      "https://www.modarm.com/medias/000005000000872338-1200x1200-0.jpg?context=bWFzdGVyfGltYWdlc3wzNzE3NTV8aW1hZ2UvanBlZ3xoMjgvaGExLzE0MTU3MTQ3NzY2ODE0LzAwMDAwNTAwMDAwMDg3MjMzOC0xMjAweDEyMDBfMC5qcGd8NzY2YWVmMzZiZWFlN2MyNzYxNjc5MTkzYjgyYjRlNTA5MGI4OTFlMzUxY2VjMGRhMGUzYTU1NmE4NjA4YjY4Ng\n",
      "https://www.modarm.com/medias/000005000000872334-1200x1200-0.jpg?context=bWFzdGVyfGltYWdlc3w1OTM4MDN8aW1hZ2UvanBlZ3xoZGEvaGZkLzE0MjAwMjk2Mjc1OTk4LzAwMDAwNTAwMDAwMDg3MjMzNC0xMjAweDEyMDBfMC5qcGd8ZDIyNjQ0NjI2MmMxYmMyM2NkMzBhMGI5ZjI4ZTI1N2Q2MTY5YzIwMWZiNWM0MmUxMjZhODFmMTVkMzZkOWJjYg\n",
      "https://www.modarm.com/medias/000005000000872333-1200x1200-0.jpg?context=bWFzdGVyfGltYWdlc3wzNTI5NTN8aW1hZ2UvanBlZ3xoNDEvaDAwLzE0MTU4OTMzMTY0MDYyLzAwMDAwNTAwMDAwMDg3MjMzMy0xMjAweDEyMDBfMC5qcGd8N2RhNDI5MmQzZmE3MDAwM2JhNWU5NmQ3N2IzMzc2MjlmZTc5OGRmMjU2NWQ2YWNlNmM4MmVjZjJjNGY1Mjk1Nw\n",
      "https://www.modarm.com/medias/000005000000872332-1200x1200-0.jpg?context=bWFzdGVyfGltYWdlc3wzNzUwMTN8aW1hZ2UvanBlZ3xoMGUvaDQ5LzE0MTU4NzkxMDgyMDE0LzAwMDAwNTAwMDAwMDg3MjMzMi0xMjAweDEyMDBfMC5qcGd8ZDlkNjUwYzMwNjg1ZjNjMDAwOTQ1ZDhlNmUxOTBjOGE2YmFhM2U1MDBhOGY1MDlmZTZhZjNkMTg0Y2VjMjdjZA\n",
      "https://www.modarm.com/medias/000005000000872422-1200x1200-0.jpg?context=bWFzdGVyfGltYWdlc3wyNjkyNTl8aW1hZ2UvanBlZ3xoYmMvaDk2LzEyNTIxNzYyNDg4MzUwLzAwMDAwNTAwMDAwMDg3MjQyMi0xMjAweDEyMDBfMC5qcGd8OTE1YTA2MTY4ZDk3NTA3NzkyMGFlNTI4ZjcxZmI5NDViMmQzYTkzNzc3NmViOWZlNjkyOGMxZjdmZTdiNjA4Yg\n",
      "https://www.modarm.com/medias/000005000000869518-1200x1200-0.jpg?context=bWFzdGVyfGltYWdlc3wzODExNjd8aW1hZ2UvanBlZ3xoOTgvaDI0LzEzMTc1NDc3MjA3MDcwLzAwMDAwNTAwMDAwMDg2OTUxOC0xMjAweDEyMDBfMC5qcGd8OTJjYjFkMjk1MjYzZjAxNjJkMTFlZWM1OTdiMTA4OWQyODBmYmU3MjVkOTMzNmJlNDA2ZDBmNGQwZDhjMGI1MQ\n",
      "https://www.modarm.com/medias/000005000000869517-1200x1200-0.jpg?context=bWFzdGVyfGltYWdlc3wzNTU4NTN8aW1hZ2UvanBlZ3xoYzQvaGVjLzEzMTc1NDY3NDc0OTc0LzAwMDAwNTAwMDAwMDg2OTUxNy0xMjAweDEyMDBfMC5qcGd8OWZhNzEwNDY4ZjMyYTJkZjQ2ZmJhY2IwOGI1Mjg2NzAzYjliMmMyYTBkZWU3ZDZjYmQ0N2ExYjNkMTU0YTA1ZA\n",
      "https://www.modarm.com/medias/000005000000869349-1200x1200-0.jpg?context=bWFzdGVyfGltYWdlc3wzNTAxMDB8aW1hZ2UvanBlZ3xoMzAvaGI1LzEyNzc3NjYxOTU2MTI2LzAwMDAwNTAwMDAwMDg2OTM0OS0xMjAweDEyMDBfMC5qcGd8YzUwMWZkZDAyNGIwZGM1OGMyNGYxYWE4MTNmMzMwY2E5OWNhNjBhMTYzYTJkZGQyN2I2ODM4NmJiY2MyOTRiZQ\n",
      "https://www.modarm.com/medias/000005000000869347-1200x1200-0.jpg?context=bWFzdGVyfGltYWdlc3wzMzU0Nzd8aW1hZ2UvanBlZ3xoYmEvaGNhLzEyNzc3NzA1NzY2OTQyLzAwMDAwNTAwMDAwMDg2OTM0Ny0xMjAweDEyMDBfMC5qcGd8NGQyNTgxYmY3ODc2NmI3NzU2MmJjNDllZmVmY2FmZjk1NTRkMDI2Njg1MWQ4YTVhMDcwZDE0ZTYxMWQxYTFmMA\n",
      "https://www.modarm.com/medias/000005000000868338-1200x1200-0.jpg?context=bWFzdGVyfGltYWdlc3wzNjg3MzV8aW1hZ2UvanBlZ3xoZTAvaDg2LzE0MDg1MTU0NTM3NTAyLzAwMDAwNTAwMDAwMDg2ODMzOC0xMjAweDEyMDBfMC5qcGd8OWNkMGM5YzZjNzM2MDZjYzNmNTk3YzliYTg0NTI2NjRlYThiN2FhMGRhODA4MzBjMzZhNDY0M2U4MzM5ZmZmOQ\n",
      "https://www.modarm.com/medias/000005000000867726-1200x1200-0.jpg?context=bWFzdGVyfGltYWdlc3wyNjQ2MTF8aW1hZ2UvanBlZ3xoOTIvaDM3LzEzODA3NTQwMjA3NjQ2LzAwMDAwNTAwMDAwMDg2NzcyNi0xMjAweDEyMDBfMC5qcGd8NWZmZTNjOGFmOTEwYzA4YTRkYzFjNmI0MGY1MWMzMmFlYzgwYzM5MDZlNTI1NTFhZjBmYjI4YmIzMzExMDA0ZQ\n",
      "https://www.modarm.com/medias/000005000000867047-1200x1200-0.jpg?context=bWFzdGVyfGltYWdlc3wzMzM5MjJ8aW1hZ2UvanBlZ3xoZTAvaDNhLzEyNzk0NzM1NjU2OTkwLzAwMDAwNTAwMDAwMDg2NzA0Ny0xMjAweDEyMDBfMC5qcGd8ODM1MmJiNTlmZDRmMTNkMDRmNmZmMTE4YTkzM2U2YWJjY2U1NTk5ODhjNTIzMjJjZWQxMDFlMWRiNWM0MmU3ZQ\n",
      "https://www.modarm.com/medias/000005000000866907-1200x1200-1.jpg?context=bWFzdGVyfGltYWdlc3wzODU0MjJ8aW1hZ2UvanBlZ3xoMDgvaDhmLzEyOTU3MDY5OTM0NjIyLzAwMDAwNTAwMDAwMDg2NjkwNy0xMjAweDEyMDBfMS5qcGd8YzA1NzVkNzM4ZmQ1ODA4YzBjNGFjY2Y2N2Q1OTg2MjA4YWEzZGRiYzM5MGZmY2RmMzU5NTY4MTc2ZTgxMzA2Mw\n",
      "https://www.modarm.com/medias/000005000000866413-1200x1200-0.jpg?context=bWFzdGVyfGltYWdlc3wyODQwMzZ8aW1hZ2UvanBlZ3xoMjEvaDBiLzEyNzE0Mjg3ODU3Njk0LzAwMDAwNTAwMDAwMDg2NjQxMy0xMjAweDEyMDBfMC5qcGd8ZjBiM2E1MzA0NmI5NTQ2Y2JjMjM5Nzc4YWQzMTFjZGIxYzFjYjBmOTU1YWNkZTE0MDUzZmUwMmE0YjY3YWMxNA\n",
      "https://www.modarm.com/medias/000005000000866268-1200x1200-0.jpg?context=bWFzdGVyfGltYWdlc3wzNzA4MjF8aW1hZ2UvanBlZ3xoZGYvaDM1LzEzODQ1NzE5MTg3NDg2LzAwMDAwNTAwMDAwMDg2NjI2OC0xMjAweDEyMDBfMC5qcGd8MjBiNzc5MjViYzg3Zjg0MDA1NjkxOTI3MGRiYTBhMzRiYTFlZmJjYzQzOTYzNGI3ZjNjMjZiNTAyNzM1NTFmNA\n",
      "https://www.modarm.com/medias/000005000000865748-1200x1200-0.jpg?context=bWFzdGVyfGltYWdlc3wyNjQ5MDl8aW1hZ2UvanBlZ3xoMDUvaDZlLzEyNzE0MjM2ODA1MTUwLzAwMDAwNTAwMDAwMDg2NTc0OC0xMjAweDEyMDBfMC5qcGd8MGM0ZjE2YzgzMzM1YTBhMTk4MmJkZWI1OWE4MDk3ZTAxYmQyNzBhMmJkZjRiOTIxZmE3NjdiNmFhNzNmNDY5Ng\n"
     ]
    }
   ],
   "source": [
    "count=0\n",
    "numero=0\n",
    "for i in range(4):\n",
    "    \n",
    "    if count<50:\n",
    "        \n",
    "        url=\"https://www.modarm.com/es_RW/MUJERES/MODA-JUVENIL/BLUSAS/c/10105129399?q=%3Amodifiedtime&page=\"+str(numero)\n",
    "        driver.get(url)\n",
    "        value = 0\n",
    "        for i in range(5):\n",
    "            driver.execute_script(\"scrollBy(\"+ str(value) +\",+1000);\")\n",
    "            value += 1000\n",
    "            time.sleep(1)\n",
    "        sub=driver.find_elements_by_xpath('//div[@class=\"product-item\"]/a/img')\n",
    "        for j,i in enumerate(sub):\n",
    "            if count < 50:\n",
    "                src = i.get_attribute('src')                         \n",
    "                try:\n",
    "\n",
    "                    if src != None:\n",
    "                        src  = str(src)\n",
    "                        print(src)\n",
    "                        count=count+1\n",
    "                        req = urllib.request.Request(src)\n",
    "                        resource = urllib.request.urlopen(req)\n",
    "                        output = open(save_folder+\"/ropa\"+str(count)+\".jpg\",\"wb\")\n",
    "                        output.write(resource.read())\n",
    "                        output.close()\n",
    "                    else:\n",
    "                        raise TypeError\n",
    "                except Exception as e:              #catches type error along with other errors\n",
    "                    print(f'fail with error {e}')\n",
    "        numero=numero+1\n",
    "\n",
    "driver.close()"
   ]
  },
  {
   "cell_type": "code",
   "execution_count": 6,
   "id": "cfebdaa5",
   "metadata": {},
   "outputs": [],
   "source": [
    "save_folder=\"FotosEtafashion\"\n"
   ]
  },
  {
   "cell_type": "code",
   "execution_count": 7,
   "id": "744bd499",
   "metadata": {},
   "outputs": [],
   "source": [
    "service = Service(executable_path=r'C:\\Users\\Ricardo\\Documents\\GitHub\\scraper\\chromedriver.exe')\n",
    "driver = webdriver.Chrome(service=service)#OJO CON ESTO, AQUI DEBEN PONER EL PATH DE CHROMEDRIVER\n",
    "driver.get(\"https://www.google.com\")"
   ]
  },
  {
   "cell_type": "code",
   "execution_count": 8,
   "id": "6b656a3d",
   "metadata": {},
   "outputs": [
    {
     "name": "stderr",
     "output_type": "stream",
     "text": [
      "C:\\Users\\Ricardo\\AppData\\Local\\Temp/ipykernel_19484/695774328.py:14: DeprecationWarning: find_elements_by_* commands are deprecated. Please use find_elements() instead\n",
      "  sub=driver.find_elements_by_xpath('//div[@class=\"product-item\"]/a/img')\n"
     ]
    },
    {
     "name": "stdout",
     "output_type": "stream",
     "text": [
      "https://www.etafashion.com/medias/5000000849424-900x1200-0.jpg?context=bWFzdGVyfGltYWdlc3w1NzU3NXxpbWFnZS9qcGVnfGgxOS9oOTQvMTMxNjk1NzIyNDk2MzAvNTAwMDAwMDg0OTQyNC05MDB4MTIwMF8wLmpwZ3w5ZjgwNTlhZjA3ODkxMGJjYTUyMDk1NzdhYTBkMDRjZDExODlhN2M2N2NjYTY3Zjc5YjdhOTdlZjRkYTA0N2Mx\n",
      "https://www.etafashion.com/medias/5000000878076-900x1200-0.jpg?context=bWFzdGVyfGltYWdlc3wxMDU4ODd8aW1hZ2UvanBlZ3xoNTIvaDRjLzE0NDM4MTA4NzI1Mjc4LzUwMDAwMDA4NzgwNzYtOTAweDEyMDBfMC5qcGd8YWNkOWI3MTA1NDM3NWVmNDczNTMwOTIzNjUxOGI1ZGFjYjk3NWM4ZDE2Y2JjYTQ5ZGFiYWU1Mjc2MTk0MDExZg\n",
      "https://www.etafashion.com/medias/5000000877772-900x1200-0.jpg?context=bWFzdGVyfGltYWdlc3w2NDY5M3xpbWFnZS9qcGVnfGg5YS9oNzgvMTQ0MzgwODM0OTM5MTgvNTAwMDAwMDg3Nzc3Mi05MDB4MTIwMF8wLmpwZ3xmNWNiNjc1MTM4NTA5OTk1NWEzZjUxYjY3MWRjYTE5MDI5YTE3MTBiMTk4OTdjMTE1NjBjOWE3YTUwZmVjYjVh\n",
      "https://www.etafashion.com/medias/5000000879827-900x1200-0.jpg?context=bWFzdGVyfGltYWdlc3w5MTc0NnxpbWFnZS9qcGVnfGhlNi9oMGEvMTQ0MzgwNzE5OTIzNTAvNTAwMDAwMDg3OTgyNy05MDB4MTIwMF8wLmpwZ3w3ODU5MmIwMzA0MWFlNjBmMmZmOGI2YTllYjk5MTU1MDlkNTQ0Mjk0OGQwZmE4NDkyNWU0ZTMzZTkxYzMwYjcx\n",
      "https://www.etafashion.com/medias/5000000878098-900x1200-0.jpg?context=bWFzdGVyfGltYWdlc3w2NzI3MnxpbWFnZS9qcGVnfGhmNy9oMDEvMTQ0Mzc5NTQzMjI0NjIvNTAwMDAwMDg3ODA5OC05MDB4MTIwMF8wLmpwZ3w3YjhmZGJlNmQyOTk1MDg0ZmU5MjJjYzA5NDlkMzYzNzU0OTNmZTk5MTRjNGI2MjU4ZDk2OWU1YTVlNGUzODY4\n",
      "https://www.etafashion.com/medias/5000000878077-900x1200-0.jpg?context=bWFzdGVyfGltYWdlc3wxMjM3NTJ8aW1hZ2UvanBlZ3xoYjgvaGIwLzE0NDM3Nzk1MDA0NDQ2LzUwMDAwMDA4NzgwNzctOTAweDEyMDBfMC5qcGd8ZWIwY2QzNmUyOWViNjBkYTMzMjQyZDNiOTk0NzJiYjFhYmNlNGQyZWViNzA2NTk5NTYwNDc4YzcxZjUzNDIwMA\n",
      "https://www.etafashion.com/medias/5000000877975-900x1200-0.jpg?context=bWFzdGVyfGltYWdlc3w0NzcyOXxpbWFnZS9qcGVnfGhjMi9oZmMvMTQ0MzgwNDAwNDM1NTAvNTAwMDAwMDg3Nzk3NS05MDB4MTIwMF8wLmpwZ3w3NTU1ZjhjZDZhNDk4YTI3NWQ1NDdmNDVhNDgwYWJkZGQ2ZjAyMDI1NmE1MDI2MTJmYzliY2M2YjI1NjM5ODIw\n",
      "https://www.etafashion.com/medias/5000000874529-900x1200-0.jpg?context=bWFzdGVyfGltYWdlc3wzMTc5NzN8aW1hZ2UvanBlZ3xoNDkvaDdiLzE0NDEzMDk4MDI0OTkwLzUwMDAwMDA4NzQ1MjktOTAweDEyMDBfMC5qcGd8YWNiYzMxZDdhYWRmYjIyMGNmZDI3OTVjZWJkZTYwOGZjNWNmOTNhYmI1YjU3NWE0NTdhZTI5YjQ3NDYzMGM4Yw\n",
      "https://www.etafashion.com/medias/5000000874528-900x1200-0.jpg?context=bWFzdGVyfGltYWdlc3wzMjc0NDd8aW1hZ2UvanBlZ3xoOTkvaDdiLzE0NDEzMDI3NzcwMzk4LzUwMDAwMDA4NzQ1MjgtOTAweDEyMDBfMC5qcGd8ODIwNDZiMTdmMjg3YmQ3ODdlYzEyNWNkNmU1MWI3NGIxODgyMTVmMzRjOGM5MjY1MWIyNTc1NjFmODk4YTlhZg\n",
      "https://www.etafashion.com/medias/5000000860005-900x1200-7.jpg?context=bWFzdGVyfGltYWdlc3w0NDUwNzd8aW1hZ2UvanBlZ3xoOTgvaDg1LzEyOTk5MzY3Njg4MjIyLzUwMDAwMDA4NjAwMDUtOTAweDEyMDBfNy5qcGd8OWIxYzMzMzc2NDgxNTUxNTExMjViMmJkOTk2YzEyOTk4YmM1MmQxZTRkZmMzMjQ0NDk4MjNjNTRhMDNmYTg1OA\n",
      "https://www.etafashion.com/medias/5000000849628-900x1200-0.jpg?context=bWFzdGVyfGltYWdlc3w3NDgyN3xpbWFnZS9qcGVnfGhmZS9oNzIvMTMyNDA2ODEzOTgzMDIvNTAwMDAwMDg0OTYyOC05MDB4MTIwMF8wLmpwZ3w1ODY2ZjI3NTQ0YzMzZWQxMmUzYjc4YTU4NGYyNmIyZGJjYjkwNTUzNjkwNDY1M2ZkMDkyNDI0NjFlYjA4Yzkw\n",
      "https://www.etafashion.com/medias/5000000866487-900x1200-5.jpg?context=bWFzdGVyfGltYWdlc3wxMDQxMjF8aW1hZ2UvanBlZ3xoY2QvaGZjLzEyOTI4NzQxNzM2NDc4LzUwMDAwMDA4NjY0ODctOTAweDEyMDBfNS5qcGd8MTA1NTAwOWVlNGMwZjE3ODc5MThlMTY3ZDg3ZWJjMWQwOTA1YjllZTI0ODI2NzE2Yjg2YWU5ZTgyMGZmNzVjMw\n",
      "https://www.etafashion.com/medias/5000000876739-900x1200-0.jpg?context=bWFzdGVyfGltYWdlc3w1OTAwMXxpbWFnZS9qcGVnfGhjYi9oNjMvMTQ0MTcyNDM2Njg1MTAvNTAwMDAwMDg3NjczOS05MDB4MTIwMF8wLmpwZ3w1MzJlNGJjYjY0YzJiZGM1ZDFhODI4NDNiOTEzNzQzYzk2NDE4NDQxYmU4MDZiMTFhNTBkY2Y4ZmYxMmI3MzBl\n",
      "https://www.etafashion.com/medias/5000000874950-900x1200-0.jpg?context=bWFzdGVyfGltYWdlc3w2MzAzNnxpbWFnZS9qcGVnfGhmYy9oYjYvMTQ0MjA4NDI1MTI0MTQvNTAwMDAwMDg3NDk1MC05MDB4MTIwMF8wLmpwZ3xkNWU1ZGJkNGY0YzQxMTQyNDJkZTFhZjIyYTY2MTE0ZGIwNTkwNTZlZmFkMTc2NWMzZjY3NDc4ZTNiNGE5ZDBj\n",
      "https://www.etafashion.com/medias/5000000869556-900x1200-0.jpg?context=bWFzdGVyfGltYWdlc3w3NDY3NXxpbWFnZS9qcGVnfGhhMC9oZGIvMTQ0MjA4NTYyNzQ5NzQvNTAwMDAwMDg2OTU1Ni05MDB4MTIwMF8wLmpwZ3wwMDg4Y2MzNDBiYTUxM2IxNDVhZDE3OTI4ZGU2MDZkZTMxZjA3OTc1YzQzMDM4ZmVkZDY5NGZlYmY1OWI3ZTRj\n",
      "https://www.etafashion.com/medias/5000000876798-900x1200-0.jpg?context=bWFzdGVyfGltYWdlc3w1MzkxNHxpbWFnZS9qcGVnfGhhNC9oYzYvMTQ0MTcyNDQ0NTQ5NDIvNTAwMDAwMDg3Njc5OC05MDB4MTIwMF8wLmpwZ3xkMmFhN2Q4NzMzN2U4YjEzMTk2NzEyNjI0OTE3YjhjNDgzNDkzZGU0MDkzMzQ3M2M4NzNkOTZiODg0NTcwOTM0\n",
      "https://www.etafashion.com/medias/5000000876738-900x1200-0.jpg?context=bWFzdGVyfGltYWdlc3w2MjU1NnxpbWFnZS9qcGVnfGhlYy9oNzMvMTQ0MjA4MjM4Njc0MjIvNTAwMDAwMDg3NjczOC05MDB4MTIwMF8wLmpwZ3xlNWVhNzYxOWQwNDJkYzNkZTAxYWNjODhjMjU4YTdjZjhkMjUzNDA3YjA5NDdlNzdkZWEyZDA3MzdlMmQ2N2U5\n",
      "https://www.etafashion.com/medias/5000000876797-900x1200-0.jpg?context=bWFzdGVyfGltYWdlc3w3NzkwNXxpbWFnZS9qcGVnfGgxNi9oODAvMTQ0MjA4NTIzMTAwNDYvNTAwMDAwMDg3Njc5Ny05MDB4MTIwMF8wLmpwZ3w0YTZhM2U4OWZmOGUxMmVjZGI2YzdmNDY3NTRhMTcwMTk0MWRjZDY2OTNmMjlmODI0NWQ2ZWQ0OTc5ZDA1NmQ1\n",
      "https://www.etafashion.com/medias/5000000868939-900x1200-0.jpg?context=bWFzdGVyfGltYWdlc3wxMDM3MjZ8aW1hZ2UvanBlZ3xoYTEvaDViLzE0NDIwODQxOTg4MTI2LzUwMDAwMDA4Njg5MzktOTAweDEyMDBfMC5qcGd8MGE0Nzc3NzA5ZTI2NDcwYTE2OWJjM2ExYTQyNjFkMWE4NWNjZGRlMTFhZDdkZDg5YjJiMTQxOWI4ZTdhN2JmZQ\n",
      "https://www.etafashion.com/medias/5000000868940-900x1200-0.jpg?context=bWFzdGVyfGltYWdlc3wxMjg2MzV8aW1hZ2UvanBlZ3xoMzcvaDc0LzE0NDIwODM2NDgzMTAyLzUwMDAwMDA4Njg5NDAtOTAweDEyMDBfMC5qcGd8MzljMDY0MDFjZmRiYWIwZGI1MDNhZWU2YjY2YmVkOGEwNTgwODk1NTEyNDE2YjEwNWIxZTA2NDJjMTljODE1OA\n",
      "https://www.etafashion.com/medias/5000000876796-900x1200-0.jpg?context=bWFzdGVyfGltYWdlc3w1NzkyM3xpbWFnZS9qcGVnfGg1OS9oY2IvMTQ0MjA4NTY3MDA5NTgvNTAwMDAwMDg3Njc5Ni05MDB4MTIwMF8wLmpwZ3w0ZTM1NWM2NTg4YzI5MmY2MGZjODhiM2RhMDg5NzJlYmJjNmFlN2VlOTYwNDZhNzBlMzNhMjQ4NmY3OGM0M2Rh\n",
      "https://www.etafashion.com/medias/5000000876740-900x1200-0.jpg?context=bWFzdGVyfGltYWdlc3w4NTE2OHxpbWFnZS9qcGVnfGg0Mi9oY2YvMTQ0MjA4NDc3NTUyOTQvNTAwMDAwMDg3Njc0MC05MDB4MTIwMF8wLmpwZ3xiMTg0ZjVmMGZlODY4YzgyNGNjMDk0ZDE0ZDkyYzU2ZDM5MDE0OGYyMjNiNTk1OTU1NGIzYWU0NjRjNWM0NGY1\n",
      "https://www.etafashion.com/medias/5000000879954-900x1200-0.jpg?context=bWFzdGVyfGltYWdlc3w2OTAwNnxpbWFnZS9qcGVnfGgwMi9oNjQvMTQ0MjA4MzY5MDkwODYvNTAwMDAwMDg3OTk1NC05MDB4MTIwMF8wLmpwZ3xhNjIzM2YyYjMyMjdiNmYxMjFlMmUyNzQ1NDU2YTkxZDIyNDJjOWJhMDk5MWM5MmFjMGU0MWJhMjM1Y2M3ZGQw\n",
      "https://www.etafashion.com/medias/5000000869980-900x1200-0.jpg?context=bWFzdGVyfGltYWdlc3w3MDkwNnxpbWFnZS9qcGVnfGgxMy9oNjMvMTQ0MjA4MjU5NjQ1NzQvNTAwMDAwMDg2OTk4MC05MDB4MTIwMF8wLmpwZ3w0MDgxZjc1NWEyNTEwODNlN2Q2ODlmYTdmOTIzZDgyNGUxNmNmZjE5MzY5M2ZjZDJjNWE2ZDM1MjVlNjFjOWQ3\n",
      "https://www.etafashion.com/medias/5000000869557-900x1200-0.jpg?context=bWFzdGVyfGltYWdlc3w2NjIxM3xpbWFnZS9qcGVnfGhmZi9oYzcvMTQ0MjA4NTU2NTIzODIvNTAwMDAwMDg2OTU1Ny05MDB4MTIwMF8wLmpwZ3w3YTE4NWJkYWNmYmQwNTFiMzNkN2UwYjE4ZDBjNjEyM2I3OTRiNTQxYTgzMGIyMTRiYTFmNDRhYjUwY2RlMTQy\n",
      "https://www.etafashion.com/medias/5000000842038-900x1200-0.jpg?context=bWFzdGVyfGltYWdlc3w0MTYwMjR8aW1hZ2UvanBlZ3xoYjkvaGZmLzEwMTY3MTQ3MTM1MDA2LzUwMDAwMDA4NDIwMzgtOTAweDEyMDBfMC5qcGd8OTJjZTc5ODllZjRiMzYzOTY0ZmViNTg4ZjIyZTNkZjgzMGEzYzZlZjBlYWRhOGEzMTYyYWM4Y2RlYmE2ZGQxMw\n",
      "https://www.etafashion.com/medias/5000000853743-900x1200-0.jpg?context=bWFzdGVyfGltYWdlc3wzMzYzMjl8aW1hZ2UvanBlZ3xoOGQvaDY4LzExMjY2NTUyMjk5NTUwLzUwMDAwMDA4NTM3NDMtOTAweDEyMDBfMC5qcGd8ZTlhYWI2NzE4OTk5MDMyODU2NjVkYzNlYTg1NTdkYTk1MTFjNDE5MjI2NDUwMjY1YjE5OWUzNjY3MWYyMjdlYw\n",
      "https://www.etafashion.com/medias/5000000846519-900x1200-0.jpg?context=bWFzdGVyfGltYWdlc3w0NDkxNzR8aW1hZ2UvanBlZ3xoNTYvaDIyLzExNjY2Mzk4ODA2MDQ2LzUwMDAwMDA4NDY1MTktOTAweDEyMDBfMC5qcGd8ODdhMjA0NGI2OTkxNGZmMmI2YzRkMGI4ZmQ1NTEwNDM1YjYxMjA3ODcyZGIxZmQ1NTQ4MjQ0NmFmZTdjMjhkNg\n",
      "https://www.etafashion.com/medias/5000000848927-900x1200-0.jpg?context=bWFzdGVyfGltYWdlc3w5Mzk3OHxpbWFnZS9qcGVnfGhlMC9oZTkvMTA4NTU5OTA0OTMyMTQvNTAwMDAwMDg0ODkyNy05MDB4MTIwMF8wLmpwZ3w0MGVjOGUwMThkOTFkNTExYTFjYjc4ZDViOGUzZThmOWNlNWZmMjI5MDgyODg3YzAyNjgxYTJkNzE3N2JiN2Ni\n",
      "https://www.etafashion.com/medias/5000000849466-900x1200-0.jpg?context=bWFzdGVyfGltYWdlc3w5NzM0NHxpbWFnZS9qcGVnfGg3ZC9oNjEvMTE2NjYzNjA3Mjk2MzAvNTAwMDAwMDg0OTQ2Ni05MDB4MTIwMF8wLmpwZ3wyZmIxYzE4MjRlMGU0NzgyYzEwYWIzNTQxZjk1MTM5NTVkMThlMzQwNzc0OTdkYzNmYzZjODM5ZmY2MjUwMTZm\n",
      "https://www.etafashion.com/medias/5000000842039-900x1200-0.jpg?context=bWFzdGVyfGltYWdlc3wzNzA5MjV8aW1hZ2UvanBlZ3xoZWEvaDI1LzEwMTY3MTQwNDgzMTAyLzUwMDAwMDA4NDIwMzktOTAweDEyMDBfMC5qcGd8MzUzZWRhYjMyNjdhZTNiOWNhMzhiNGE4MTlmNWQ0ODg5ZmJiNjUzMTgzNDEwNjMxNGQ2N2U5M2YwM2IzZmY1Mw\n"
     ]
    },
    {
     "name": "stdout",
     "output_type": "stream",
     "text": [
      "https://www.etafashion.com/medias/5000000875794-900x1200-0.jpg?context=bWFzdGVyfGltYWdlc3w3MDUyMXxpbWFnZS9qcGVnfGgyNy9oYjUvMTI3ODEzNDgyOTA1OTAvNTAwMDAwMDg3NTc5NC05MDB4MTIwMF8wLmpwZ3xlMGY5MjE2NDIwZmRkMTRmMjYzNmQxMDU0NjFjYjQ4YjM3M2YyN2VhOTcwYjRkNGUxZmU5NjNhZjMzM2QwZTRh\n",
      "https://www.etafashion.com/medias/5000000863973-900x1200-0.jpg?context=bWFzdGVyfGltYWdlc3wxMDYyNjN8aW1hZ2UvanBlZ3xoODYvaDY5LzExMjA2NTU5OTI0MjU0LzUwMDAwMDA4NjM5NzMtOTAweDEyMDBfMC5qcGd8YzNjYjNhMWMxMjFiMTY4MjA2ZGRmNTE4NjRmMzA1ZDNkNTFjNzgwZWQ2MmUyMmFjMTViZmIyNGExYmUyNTdjZA\n",
      "https://www.etafashion.com/medias/5000000845691-900x1200-0.jpg?context=bWFzdGVyfGltYWdlc3wxNDE1Njh8aW1hZ2UvanBlZ3xoY2MvaGRiLzExNjY2Mzg3NDY4MzE4LzUwMDAwMDA4NDU2OTEtOTAweDEyMDBfMC5qcGd8MDhlMWU5MTkyYmRlZGQyNzRiMGUyNzBiNGY5ZDgzNDE5ZGE1N2I3NTkzNDMwODk1NTAwNDI3NzNkYzQ3OWYyNQ\n",
      "https://www.etafashion.com/medias/5000000848139-900x1200-1.jpg?context=bWFzdGVyfGltYWdlc3wzNjE1MDN8aW1hZ2UvanBlZ3xoYzcvaDI3LzEwNTU3ODcxMjkyNDQ2LzUwMDAwMDA4NDgxMzktOTAweDEyMDBfMS5qcGd8NGU2ZjBkNzE0ZTJjNjQ3YjcwZTYxZGExYzAwZWY3YzZiYjc4MGQwODU4NjZiOTBiOGFjMTI0Yjk5Njc1NzAxZQ\n",
      "https://www.etafashion.com/medias/5000000862938-900x1200-0.jpg?context=bWFzdGVyfGltYWdlc3wzNTc3MjZ8aW1hZ2UvanBlZ3xoMmIvaDE1LzExMjY2NTcyNjQ4NDc4LzUwMDAwMDA4NjI5MzgtOTAweDEyMDBfMC5qcGd8ZjcxYmJmNWUxZTE2NjVhMzgxYmNjMmE0MTI5ZWQ1OTQyNDljMWIyOTcyMzgxMzgwZTllZDNiN2M2YjY4NzBiMA\n",
      "https://www.etafashion.com/medias/5000000848930-900x1200-0.jpg?context=bWFzdGVyfGltYWdlc3w5MjY2M3xpbWFnZS9qcGVnfGg1NC9oZWYvMTA4NjE1NTExNTcyNzgvNTAwMDAwMDg0ODkzMC05MDB4MTIwMF8wLmpwZ3wzOGVlNThhNDc2NTM4OGZiYTc1ZWYwN2UzODQ0NDhmZjUzNjZlZTEyYmExNTBkMWQ1YWFhMmY5ZmU3ZTYzNDA3\n",
      "https://www.etafashion.com/medias/5000000846520-900x1200-0.jpg?context=bWFzdGVyfGltYWdlc3wzMjI5NTR8aW1hZ2UvanBlZ3xoMGMvaGRmLzExNjY2MzcwMjk3ODg2LzUwMDAwMDA4NDY1MjAtOTAweDEyMDBfMC5qcGd8OWYzZmZjZDNmZTk1YWVhMjQ4ZjYxNTdjYmU3ZmY2ZDg1MmU4ZTc1YTY4YzY5Nzc2OWY3NjBjOGNlOTg2Mzc2OA\n",
      "https://www.etafashion.com/medias/5000000866835-900x1200-0.jpg?context=bWFzdGVyfGltYWdlc3wzMzYzNTZ8aW1hZ2UvanBlZ3xoYjgvaDM5LzEyNTQwOTUzNjkwMTQyLzUwMDAwMDA4NjY4MzUtOTAweDEyMDBfMC5qcGd8YTdiNzU4MGUyMmU4ZmVmMDk4MjZlZThjZjQxNWNhMGU4ZjVkMjQ3YzQ2MDMzZjU2MzQ3MGMyZTQ1M2NjZTAxYg\n",
      "https://www.etafashion.com/medias/5000000848928-900x1200-1.jpg?context=bWFzdGVyfGltYWdlc3wxMjE1NzN8aW1hZ2UvanBlZ3xoZDAvaDJlLzEwODYxNTkxMTk5Nzc0LzUwMDAwMDA4NDg5MjgtOTAweDEyMDBfMS5qcGd8YzFiODc5OTE3NzAwZjJhMDUyZDc4YTg0NDJhNDkyYWJmNTc3ZjdlMDAyZmQ4NTk5ODBkNDdiZWRmNjE2YjlhNg\n",
      "https://www.etafashion.com/medias/5000000867348-900x1200-0.jpg?context=bWFzdGVyfGltYWdlc3wzMzE3Nzh8aW1hZ2UvanBlZ3xoYmUvaDU5LzEyOTk5MzE1NzUwOTQyLzUwMDAwMDA4NjczNDgtOTAweDEyMDBfMC5qcGd8NGRmNGM1MDYwZTg3NzI2YzQyMzFhYmFmZDk2ZTJhZTNmMGY5NzVlMzAwN2Q0OTAyODljMmI2NmNmMDE0MmM2Mg\n",
      "https://www.etafashion.com/medias/5000000862926-900x1200-0.jpg?context=bWFzdGVyfGltYWdlc3w1NTYyNHxpbWFnZS9qcGVnfGhkMi9oZTQvMTM2Mjc3NTAxNTQyNzAvNTAwMDAwMDg2MjkyNi05MDB4MTIwMF8wLmpwZ3wyOTdlNzU2MDM4ZGU4NDViMmM1NmI2YjI1ODZhN2M5ODA2YzY0YWJlYzI4YjY2NDBkNmQ5OWQzNDk0YWZhNTI4\n",
      "https://www.etafashion.com/medias/5000000845882-900x1200-1.jpg?context=bWFzdGVyfGltYWdlc3w0MTI5MDd8aW1hZ2UvanBlZ3xoODUvaDhhLzEzMjc2Nzc1NzEwNzUwLzUwMDAwMDA4NDU4ODItOTAweDEyMDBfMS5qcGd8M2NlYzZmNTMzNTZmZmE2MzMwYjdkOTUzMDcwNjNmZDg0ZjdlMzEwZDk4Y2FkNjI5ZDQyMTdjOTU3MzY0YzQ3Yg\n",
      "https://www.etafashion.com/medias/5000000848138-900x1200-0.jpg?context=bWFzdGVyfGltYWdlc3wzNTk3ODJ8aW1hZ2UvanBlZ3xoZTYvaDgwLzEwNjkzNTEwNDk2Mjg2LzUwMDAwMDA4NDgxMzgtOTAweDEyMDBfMC5qcGd8MzBkOWU3NDA4ZWZiYWU1NGQxY2JmYzJlNjdhZGYxN2FiNDYyOGIwOTdlN2IzZDA5NGM4ZTExNTdjNzAzMjUwMg\n",
      "https://www.etafashion.com/medias/5000000847283-900x1200-0.jpg?context=bWFzdGVyfGltYWdlc3wyNzAzNzB8aW1hZ2UvanBlZ3xoN2UvaGU1LzEwNTg1MzI4NDUxNjE0LzUwMDAwMDA4NDcyODMtOTAweDEyMDBfMC5qcGd8NWFkYWJkY2Y5MTA1MWI4YjkxNGMyZWM0YmY3YzNjOGJjZDViZDZiZWQ2M2M1YzY1ZDRhYjIzOGUyYTAzMzA5NQ\n",
      "https://www.etafashion.com/medias/5000000867347-900x1200-0.jpg?context=bWFzdGVyfGltYWdlc3wyOTk2NzR8aW1hZ2UvanBlZ3xoNWQvaGRiLzEyOTk5MzUwOTc2NTQyLzUwMDAwMDA4NjczNDctOTAweDEyMDBfMC5qcGd8ZGZjMjAxZjM3OGE2Y2JhNzNkMzBjOGE0ZTlhOGMxYTgwYjI0Y2QxMzRkMjQ5OWM5N2ZkYmNmODA2MTRhMjYyMw\n",
      "https://www.etafashion.com/medias/5000000842077-900x1200-0.jpg?context=bWFzdGVyfGltYWdlc3wyMDg3MTJ8aW1hZ2UvanBlZ3xoNGQvaGRmLzk5Njk4NDA1NTQwMTQvNTAwMDAwMDg0MjA3Ny05MDB4MTIwMF8wLmpwZ3w1ZTZmOTE3NTJiYzE4ZDlmMTYyMGY4ZTJiMGQ2NzNiOTM4YmQzMzExOWQ2YWU3ODE0NTYxMTEwZTA0Mjg1YTQ0\n",
      "https://www.etafashion.com/medias/5000000846521-900x1200-0.jpg?context=bWFzdGVyfGltYWdlc3wyNjUyMzd8aW1hZ2UvanBlZ3xoNTYvaDFhLzExNjY2NDExNzgyMTc0LzUwMDAwMDA4NDY1MjEtOTAweDEyMDBfMC5qcGd8NzU3YTM4YzBkNGY4YzgxODNiOWMyOTA2MjY4YWNlZDdjMDhmZDU4YTAwNzdjOGUyZDllNTM5NjQxYWE2YTUyNA\n",
      "https://www.etafashion.com/medias/5000000845692-900x1200-0.jpg?context=bWFzdGVyfGltYWdlc3wxMzc4NTl8aW1hZ2UvanBlZ3xoMTgvaGNkLzExNjY2MzQxOTUzNTY2LzUwMDAwMDA4NDU2OTItOTAweDEyMDBfMC5qcGd8MTE3ZGQyYjlhNzI3OTIwOGI0YjdhNWZiYzkxYWVmOGNlNzUyODNhZjY0ZjQ3MGYzZGQ4ODFiZjBiNTMyNjFhNg\n",
      "https://www.etafashion.com/medias/5000000842040-900x1200-0.jpg?context=bWFzdGVyfGltYWdlc3wzOTM5NTB8aW1hZ2UvanBlZ3xoYjAvaDk2LzEwMTY3MTQ4MTE4MDQ2LzUwMDAwMDA4NDIwNDAtOTAweDEyMDBfMC5qcGd8N2RmOGY3OWZmNDFiMzkyMThjOWYzOTQ1MTE3OTIwZGNkMWE4NGEyZTY5NzZjOWE0MTFjNTIzYTQ2ODMyYzcwMg\n"
     ]
    }
   ],
   "source": [
    "count=0\n",
    "numero=0\n",
    "for i in range(4):\n",
    "    \n",
    "    if count<50:\n",
    "        \n",
    "        url=\"https://www.etafashion.com/es_EC/MUJERES/c/101?q=%3Amodifiedtime&page=\"+str(numero)\n",
    "        driver.get(url)\n",
    "        value = 0\n",
    "        for i in range(5):\n",
    "            driver.execute_script(\"scrollBy(\"+ str(value) +\",+1000);\")\n",
    "            value += 1000\n",
    "            time.sleep(1)\n",
    "        sub=driver.find_elements_by_xpath('//div[@class=\"product-item\"]/a/img')\n",
    "        for j,i in enumerate(sub):\n",
    "            if count < 50:\n",
    "                src = i.get_attribute('src')                         \n",
    "                try:\n",
    "\n",
    "                    if src != None:\n",
    "                        src  = str(src)\n",
    "                        print(src)\n",
    "                        count=count+1\n",
    "                        req = urllib.request.Request(src, headers={'User-Agent': 'Mozilla/5.0 (Windows NT 10.0; Win64; x64) AppleWebKit/537.36 (KHTML, like Gecko) Chrome/80.0.3987.100 Safari/537.36'})\n",
    "                        resource = urllib.request.urlopen(req)\n",
    "                        output = open(save_folder+\"/ropa\"+str(count)+\".jpg\",\"wb\")\n",
    "                        output.write(resource.read())\n",
    "                        output.close()\n",
    "                    else:\n",
    "                        raise TypeError\n",
    "                except Exception as e:              #catches type error along with other errors\n",
    "                    print(f'fail with error {e}')\n",
    "        numero=numero+1\n",
    "\n",
    "driver.close()"
   ]
  },
  {
   "cell_type": "code",
   "execution_count": 9,
   "id": "e8da53b4",
   "metadata": {},
   "outputs": [],
   "source": [
    "save_folder=\"FotosDeprati\""
   ]
  },
  {
   "cell_type": "code",
   "execution_count": 10,
   "id": "70ad697d",
   "metadata": {},
   "outputs": [],
   "source": [
    "service = Service(executable_path=r'C:\\Users\\Ricardo\\Documents\\GitHub\\scraper\\chromedriver.exe')\n",
    "driver = webdriver.Chrome(service=service)#OJO CON ESTO, AQUI DEBEN PONER EL PATH DE CHROMEDRIVER\n",
    "driver.get(\"https://www.google.com\")"
   ]
  },
  {
   "cell_type": "code",
   "execution_count": 11,
   "id": "af85d21c",
   "metadata": {},
   "outputs": [],
   "source": [
    "driver.get(\"https://www.deprati.com.ec/camisetas-/c/010202\")"
   ]
  },
  {
   "cell_type": "code",
   "execution_count": 12,
   "id": "14929233",
   "metadata": {},
   "outputs": [],
   "source": [
    "value = 0\n",
    "for i in range(5):\n",
    "        driver.execute_script(\"scrollBy(\"+ str(value) +\",+1000);\")\n",
    "        value += 1000\n",
    "        time.sleep(1)"
   ]
  },
  {
   "cell_type": "code",
   "execution_count": 13,
   "id": "b33b0f14",
   "metadata": {},
   "outputs": [
    {
     "name": "stderr",
     "output_type": "stream",
     "text": [
      "C:\\Users\\Ricardo\\AppData\\Local\\Temp/ipykernel_19484/3104205059.py:1: DeprecationWarning: find_elements_by_* commands are deprecated. Please use find_elements() instead\n",
      "  sub=driver.find_elements_by_xpath('//div[@class=\"product--listing product--grid\"]/div/a/img')\n"
     ]
    }
   ],
   "source": [
    "sub=driver.find_elements_by_xpath('//div[@class=\"product--listing product--grid\"]/div/a/img')"
   ]
  },
  {
   "cell_type": "code",
   "execution_count": 14,
   "id": "4e6b2c32",
   "metadata": {
    "scrolled": true
   },
   "outputs": [
    {
     "name": "stdout",
     "output_type": "stream",
     "text": [
      "https://images.deprati.com.ec/sys-master/images/h20/h51/10355264192542/5715206085304-0_product_300Wx450H\n",
      "https://images.deprati.com.ec/sys-master/images/h0c/hdf/10355160186910/5715101579632-0_product_300Wx450H\n",
      "https://images.deprati.com.ec/sys-master/images/h8f/h92/10294846554142/8445323532180-0_product_300Wx450H\n",
      "https://images.deprati.com.ec/sys-master/images/h53/ha5/10294880698398/8445323589986-0_product_300Wx450H\n",
      "https://images.deprati.com.ec/sys-master/images/h5b/h18/10294890102814/8445323590685-0_product_300Wx450H\n",
      "https://images.deprati.com.ec/sys-master/images/h96/h20/10294866018334/8445323536492-0_product_300Wx450H\n",
      "https://images.deprati.com.ec/sys-master/images/h7f/h82/10294919364638/8445323596243-0_product_300Wx450H\n",
      "https://images.deprati.com.ec/sys-master/images/h2d/hf8/10294601744414/8445323151503-0_product_300Wx450H\n",
      "https://images.deprati.com.ec/sys-master/images/hd4/hb9/10295171416094/8445323851274-0_product_300Wx450H\n",
      "https://images.deprati.com.ec/sys-master/images/h6c/hcb/10294800187422/8445323495522-0_product_300Wx450H\n",
      "https://images.deprati.com.ec/sys-master/images/hf8/h7a/10294841376798/8445323528565-0_product_300Wx450H\n",
      "https://images.deprati.com.ec/sys-master/images/hb2/hd8/10374088884254/16344094-0_product_300Wx450H\n",
      "https://images.deprati.com.ec/sys-master/images/h1e/h27/10355228606494/5715111452987-0_product_300Wx450H\n",
      "https://images.deprati.com.ec/sys-master/images/h0c/h24/10372670652446/16409085-0_product_300Wx450H\n",
      "https://images.deprati.com.ec/sys-master/images/h6d/h91/10355148292126/5715101240501-0_product_300Wx450H\n",
      "https://images.deprati.com.ec/sys-master/images/h42/h51/10366827036702/16317715-0_product_300Wx450H\n",
      "https://images.deprati.com.ec/sys-master/images/hc7/hb7/10364400074782/16394553-0_product_300Wx450H\n",
      "https://images.deprati.com.ec/sys-master/images/hf8/h97/10364394602526/16394254-0_product_300Wx450H\n",
      "https://images.deprati.com.ec/sys-master/images/hf2/h07/10321726439454/16269502-0_product_300Wx450H\n",
      "https://images.deprati.com.ec/sys-master/images/h90/h2b/10357415149598/16258689-0_product_300Wx450H\n",
      "https://images.deprati.com.ec/sys-master/images/h49/h43/10357481603102/16320118-0_product_300Wx450H\n",
      "https://images.deprati.com.ec/sys-master/images/h9c/h0d/10363180974110/16333113-0_product_300Wx450H\n",
      "https://images.deprati.com.ec/sys-master/images/hfa/hf8/10362531545118/16270957-0_product_300Wx450H\n",
      "https://images.deprati.com.ec/sys-master/images/h7d/hb4/10360489050142/16393728-0_product_300Wx450H\n",
      "https://images.deprati.com.ec/sys-master/images/h75/h71/10370453143582/16386482-0_product_300Wx450H\n",
      "https://images.deprati.com.ec/sys-master/images/hb9/hbc/10315993907230/16375881-0_product_300Wx450H\n",
      "https://images.deprati.com.ec/sys-master/images/hdb/hf6/10334001299486/16394077-0_product_300Wx450H\n",
      "https://images.deprati.com.ec/sys-master/images/h26/h53/10330837975070/16394129-0_product_300Wx450H\n",
      "https://images.deprati.com.ec/sys-master/images/ha8/h9c/10330438467614/16341272-0_product_300Wx450H\n",
      "https://images.deprati.com.ec/sys-master/images/h94/h98/10327074832414/16267642-0_product_300Wx450H\n",
      "https://images.deprati.com.ec/sys-master/images/hd2/hd1/10334014996510/16394248-0_product_300Wx450H\n",
      "https://images.deprati.com.ec/sys-master/images/h82/hb0/10371406495774/16344191-0_product_300Wx450H\n",
      "https://images.deprati.com.ec/sys-master/images/h4c/h6d/10359676043294/16407021-0_product_300Wx450H\n",
      "https://images.deprati.com.ec/sys-master/images/h53/hc2/10321766613022/16301738-0_product_300Wx450H\n",
      "https://images.deprati.com.ec/sys-master/images/hde/h2d/10340229316638/16386382-0_product_300Wx450H\n",
      "https://images.deprati.com.ec/sys-master/images/h51/h70/10354955714590/16319330-0_product_300Wx450H\n",
      "https://images.deprati.com.ec/sys-master/images/hd8/hc1/10338804793374/16316098-0_product_300Wx450H\n",
      "https://images.deprati.com.ec/sys-master/images/h29/h6f/10338842017822/16316996-0_product_300Wx450H\n",
      "https://images.deprati.com.ec/sys-master/images/h32/he0/10354946441246/16316965-0_product_300Wx450H\n",
      "https://images.deprati.com.ec/sys-master/images/h27/h4a/10339034529822/16394464-0_product_300Wx450H\n",
      "https://images.deprati.com.ec/sys-master/images/h32/h51/10339042885662/16394469-0_product_300Wx450H\n",
      "https://images.deprati.com.ec/sys-master/images/hd2/hca/10352013443102/16317728-0_product_300Wx450H\n",
      "https://images.deprati.com.ec/sys-master/images/hff/h33/10353317117982/16322383-0_product_300Wx450H\n",
      "https://images.deprati.com.ec/sys-master/images/hf7/hbc/10338838249502/16316977-0_product_300Wx450H\n",
      "https://images.deprati.com.ec/sys-master/images/h47/h85/10338799943710/16316093-0_product_300Wx450H\n",
      "https://images.deprati.com.ec/sys-master/images/hbb/h08/10370226094110/16392334-0_product_300Wx450H\n",
      "https://images.deprati.com.ec/sys-master/images/h50/h66/10346528800798/16344112-0_product_300Wx450H\n",
      "https://images.deprati.com.ec/sys-master/images/hcc/hd8/10291049758750/16332106-0_product_300Wx450H\n",
      "https://images.deprati.com.ec/sys-master/images/h3c/hc6/10340098375710/5715108474992-0_product_300Wx450H\n",
      "https://images.deprati.com.ec/sys-master/images/h9e/h76/10338823831582/16316130-0_product_300Wx450H\n"
     ]
    }
   ],
   "source": [
    "count=0\n",
    "for j,i in enumerate(sub):\n",
    "    if j < 50:\n",
    "        src = i.get_attribute('src')                         \n",
    "        try:\n",
    "            if src != None:\n",
    "                src  = str(src)\n",
    "                print(src)\n",
    "\n",
    "                req = urllib.request.Request(src, headers={'User-Agent': 'Mozilla/5.0 (Windows NT 10.0; Win64; x64) AppleWebKit/537.36 (KHTML, like Gecko) Chrome/80.0.3987.100 Safari/537.36'})\n",
    "                resource = urllib.request.urlopen(req)\n",
    "                output = open(save_folder+\"/ropa\"+str(j)+\".jpg\",\"wb\")\n",
    "                output.write(resource.read())\n",
    "                output.close()\n",
    "            else:\n",
    "                raise TypeError\n",
    "        except Exception as e:              #catches type error along with other errors\n",
    "            print(f'fail with error {e}')\n",
    "\n",
    "driver.close()"
   ]
  },
  {
   "cell_type": "code",
   "execution_count": null,
   "id": "0fb65594",
   "metadata": {},
   "outputs": [],
   "source": []
  }
 ],
 "metadata": {
  "kernelspec": {
   "display_name": "Python 3 (ipykernel)",
   "language": "python",
   "name": "python3"
  },
  "language_info": {
   "codemirror_mode": {
    "name": "ipython",
    "version": 3
   },
   "file_extension": ".py",
   "mimetype": "text/x-python",
   "name": "python",
   "nbconvert_exporter": "python",
   "pygments_lexer": "ipython3",
   "version": "3.9.7"
  }
 },
 "nbformat": 4,
 "nbformat_minor": 5
}
