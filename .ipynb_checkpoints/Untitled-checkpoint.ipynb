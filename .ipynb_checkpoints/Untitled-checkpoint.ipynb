{
 "cells": [
  {
   "cell_type": "code",
   "execution_count": 1,
   "id": "f2de597b",
   "metadata": {},
   "outputs": [],
   "source": [
    "import csv\n",
    "from getpass import getpass\n",
    "from time import sleep\n",
    "from selenium.webdriver.common.keys import Keys\n",
    "from selenium import webdriver\n",
    "from selenium.common.exceptions import NoSuchElementException\n",
    "from selenium.webdriver.common.by import By\n",
    "from selenium.webdriver.chrome.service import Service\n",
    "import urllib\n",
    "import os\n",
    "import time\n",
    "\n",
    "#from msedge.selenium_tools import Edge, EdgeOptions"
   ]
  },
  {
   "cell_type": "code",
   "execution_count": 2,
   "id": "25d99235",
   "metadata": {},
   "outputs": [],
   "source": [
    "save_folder=\"FotosUnity\""
   ]
  },
  {
   "cell_type": "code",
   "execution_count": 3,
   "id": "275ec712",
   "metadata": {},
   "outputs": [],
   "source": [
    "options = webdriver.ChromeOptions()\n",
    "options.add_argument('ignore-certificate-errors')"
   ]
  },
  {
   "cell_type": "code",
   "execution_count": 4,
   "id": "19bb5436",
   "metadata": {},
   "outputs": [],
   "source": [
    "service = Service(executable_path=r'C:\\Users\\Ricardo\\Documents\\GitHub\\scraper\\chromedriver.exe')\n",
    "driver = webdriver.Chrome(service=service)#OJO CON ESTO, AQUI DEBEN PONER EL PATH DE CHROMEDRIVER\n",
    "driver.get(\"https://www.google.com\")"
   ]
  },
  {
   "cell_type": "code",
   "execution_count": null,
   "id": "ea53f558",
   "metadata": {},
   "outputs": [],
   "source": []
  },
  {
   "cell_type": "code",
   "execution_count": 5,
   "id": "a08ff1ac",
   "metadata": {},
   "outputs": [
    {
     "name": "stderr",
     "output_type": "stream",
     "text": [
      "C:\\Users\\Ricardo\\AppData\\Local\\Temp/ipykernel_19484/2391910695.py:14: DeprecationWarning: find_elements_by_* commands are deprecated. Please use find_elements() instead\n",
      "  sub=driver.find_elements_by_xpath('//div[@class=\"product\"]/div[@class=\"image has-hover\"]/a/img[2]')\n"
     ]
    },
    {
     "name": "stdout",
     "output_type": "stream",
     "text": [
      "https://unitystores.vteximg.com.br/arquivos/ids/166942-300-300/only-chaqueta-besty-melange-15138607-2.jpg?v=637383032875600000\n",
      "https://unitystores.vteximg.com.br/arquivos/ids/173598-300-300/short-de-lino-rayas-beige-co-sw22-5396-2.jpg?v=637763940378000000\n",
      "https://unitystores.vteximg.com.br/arquivos/ids/173594-300-300/falda-floral-naranja-co-sw22-5392-2.jpg?v=637763934848700000\n",
      "https://unitystores.vteximg.com.br/arquivos/ids/173590-300-300/short-con-cinturon-naranja--co-sw22-5362-2.jpg?v=637763931607070000\n",
      "https://unitystores.vteximg.com.br/arquivos/ids/173586-300-300/top-nido-peplum-blanco-co-sw22-5384-2.jpg?v=637763926572500000\n",
      "https://unitystores.vteximg.com.br/arquivos/ids/173565-300-300/top-rib-nudo-mostaza-co-sw22-5378-2.jpg?v=637763887136670000\n",
      "https://unitystores.vteximg.com.br/arquivos/ids/173561-300-300/top-off-shoulder-naranja-co-sw22-5360-2.jpg?v=637763882088930000\n",
      "https://unitystores.vteximg.com.br/arquivos/ids/173558-300-300/vestido-maxi-print-blanco-co-sw22-5394-4.jpg?v=637763879502630000\n",
      "https://unitystores.vteximg.com.br/arquivos/ids/173553-300-300/vestido-print-floral-lila-co-sw22-5395-2.jpg?v=637763866285700000\n",
      "https://unitystores.vteximg.com.br/arquivos/ids/173549-300-300/pareo-floral-print-naranja-co-sw22-5390-n-2.jpg?v=637763861588030000\n",
      "https://unitystores.vteximg.com.br/arquivos/ids/173542-300-300/cover-blanco-co-sw22-5387-b-3.jpg?v=637763839378100000\n",
      "https://unitystores.vteximg.com.br/arquivos/ids/173538-300-300/unica-print-floral-co-sw22-5389-3.jpg?v=637763836601100000\n",
      "https://unitystores.vteximg.com.br/arquivos/ids/173534-300-300/cover-floral-verde-co-sw22-5386-2.jpg?v=637763255898300000\n",
      "https://unitystores.vteximg.com.br/arquivos/ids/173578-300-300/bottom-amarillo-estampado-co-sw22-501212p-2.jpg?v=637763914604470000\n",
      "https://unitystores.vteximg.com.br/arquivos/ids/173574-300-300/top-nido-estampado-co-sw22-501212-4.jpg?v=637763906337330000\n",
      "https://unitystores.vteximg.com.br/arquivos/ids/166942-300-300/only-chaqueta-besty-melange-15138607-2.jpg?v=637383032875600000\n",
      "https://unitystores.vteximg.com.br/arquivos/ids/173598-300-300/short-de-lino-rayas-beige-co-sw22-5396-2.jpg?v=637763940378000000\n",
      "https://unitystores.vteximg.com.br/arquivos/ids/173594-300-300/falda-floral-naranja-co-sw22-5392-2.jpg?v=637763934848700000\n",
      "https://unitystores.vteximg.com.br/arquivos/ids/173590-300-300/short-con-cinturon-naranja--co-sw22-5362-2.jpg?v=637763931607070000\n",
      "https://unitystores.vteximg.com.br/arquivos/ids/173586-300-300/top-nido-peplum-blanco-co-sw22-5384-2.jpg?v=637763926572500000\n",
      "https://unitystores.vteximg.com.br/arquivos/ids/173565-300-300/top-rib-nudo-mostaza-co-sw22-5378-2.jpg?v=637763887136670000\n",
      "https://unitystores.vteximg.com.br/arquivos/ids/173561-300-300/top-off-shoulder-naranja-co-sw22-5360-2.jpg?v=637763882088930000\n",
      "https://unitystores.vteximg.com.br/arquivos/ids/173558-300-300/vestido-maxi-print-blanco-co-sw22-5394-4.jpg?v=637763879502630000\n",
      "https://unitystores.vteximg.com.br/arquivos/ids/173553-300-300/vestido-print-floral-lila-co-sw22-5395-2.jpg?v=637763866285700000\n",
      "https://unitystores.vteximg.com.br/arquivos/ids/173549-300-300/pareo-floral-print-naranja-co-sw22-5390-n-2.jpg?v=637763861588030000\n",
      "https://unitystores.vteximg.com.br/arquivos/ids/173542-300-300/cover-blanco-co-sw22-5387-b-3.jpg?v=637763839378100000\n",
      "https://unitystores.vteximg.com.br/arquivos/ids/173538-300-300/unica-print-floral-co-sw22-5389-3.jpg?v=637763836601100000\n",
      "https://unitystores.vteximg.com.br/arquivos/ids/173534-300-300/cover-floral-verde-co-sw22-5386-2.jpg?v=637763255898300000\n",
      "https://unitystores.vteximg.com.br/arquivos/ids/173578-300-300/bottom-amarillo-estampado-co-sw22-501212p-2.jpg?v=637763914604470000\n",
      "https://unitystores.vteximg.com.br/arquivos/ids/173574-300-300/top-nido-estampado-co-sw22-501212-4.jpg?v=637763906337330000\n",
      "https://unitystores.vteximg.com.br/arquivos/ids/166942-300-300/only-chaqueta-besty-melange-15138607-2.jpg?v=637383032875600000\n",
      "https://unitystores.vteximg.com.br/arquivos/ids/173598-300-300/short-de-lino-rayas-beige-co-sw22-5396-2.jpg?v=637763940378000000\n",
      "https://unitystores.vteximg.com.br/arquivos/ids/173594-300-300/falda-floral-naranja-co-sw22-5392-2.jpg?v=637763934848700000\n",
      "https://unitystores.vteximg.com.br/arquivos/ids/173590-300-300/short-con-cinturon-naranja--co-sw22-5362-2.jpg?v=637763931607070000\n",
      "https://unitystores.vteximg.com.br/arquivos/ids/173586-300-300/top-nido-peplum-blanco-co-sw22-5384-2.jpg?v=637763926572500000\n",
      "https://unitystores.vteximg.com.br/arquivos/ids/173565-300-300/top-rib-nudo-mostaza-co-sw22-5378-2.jpg?v=637763887136670000\n",
      "https://unitystores.vteximg.com.br/arquivos/ids/173561-300-300/top-off-shoulder-naranja-co-sw22-5360-2.jpg?v=637763882088930000\n",
      "https://unitystores.vteximg.com.br/arquivos/ids/173558-300-300/vestido-maxi-print-blanco-co-sw22-5394-4.jpg?v=637763879502630000\n",
      "https://unitystores.vteximg.com.br/arquivos/ids/173553-300-300/vestido-print-floral-lila-co-sw22-5395-2.jpg?v=637763866285700000\n",
      "https://unitystores.vteximg.com.br/arquivos/ids/173549-300-300/pareo-floral-print-naranja-co-sw22-5390-n-2.jpg?v=637763861588030000\n",
      "https://unitystores.vteximg.com.br/arquivos/ids/173542-300-300/cover-blanco-co-sw22-5387-b-3.jpg?v=637763839378100000\n",
      "https://unitystores.vteximg.com.br/arquivos/ids/173538-300-300/unica-print-floral-co-sw22-5389-3.jpg?v=637763836601100000\n",
      "https://unitystores.vteximg.com.br/arquivos/ids/173534-300-300/cover-floral-verde-co-sw22-5386-2.jpg?v=637763255898300000\n",
      "https://unitystores.vteximg.com.br/arquivos/ids/173578-300-300/bottom-amarillo-estampado-co-sw22-501212p-2.jpg?v=637763914604470000\n",
      "https://unitystores.vteximg.com.br/arquivos/ids/173574-300-300/top-nido-estampado-co-sw22-501212-4.jpg?v=637763906337330000\n",
      "https://unitystores.vteximg.com.br/arquivos/ids/166942-300-300/only-chaqueta-besty-melange-15138607-2.jpg?v=637383032875600000\n",
      "https://unitystores.vteximg.com.br/arquivos/ids/173598-300-300/short-de-lino-rayas-beige-co-sw22-5396-2.jpg?v=637763940378000000\n",
      "https://unitystores.vteximg.com.br/arquivos/ids/173594-300-300/falda-floral-naranja-co-sw22-5392-2.jpg?v=637763934848700000\n",
      "https://unitystores.vteximg.com.br/arquivos/ids/173590-300-300/short-con-cinturon-naranja--co-sw22-5362-2.jpg?v=637763931607070000\n",
      "https://unitystores.vteximg.com.br/arquivos/ids/173586-300-300/top-nido-peplum-blanco-co-sw22-5384-2.jpg?v=637763926572500000\n"
     ]
    }
   ],
   "source": [
    "count=0\n",
    "numero=0\n",
    "for i in range(4):\n",
    "    \n",
    "    if count<50:\n",
    "        \n",
    "        url=\"https://www.unitystores.com/moda-mujer#=\"+str(numero)\n",
    "        driver.get(url)\n",
    "        value = 0\n",
    "        for i in range(5):\n",
    "            driver.execute_script(\"scrollBy(\"+ str(value) +\",+1000);\")\n",
    "            value += 1000\n",
    "            time.sleep(1)\n",
    "        sub=driver.find_elements_by_xpath('//div[@class=\"product\"]/div[@class=\"image has-hover\"]/a/img[2]')\n",
    "        for j,i in enumerate(sub):\n",
    "            if count < 50:\n",
    "                src = i.get_attribute('src')                         \n",
    "                try:\n",
    "\n",
    "                    if src != None:\n",
    "                        src  = str(src)\n",
    "                        print(src)\n",
    "                        count=count+1\n",
    "                        req = urllib.request.Request(src)\n",
    "                        resource = urllib.request.urlopen(req)\n",
    "                        output = open(save_folder+\"/ropa\"+str(count)+\".jpg\",\"wb\")\n",
    "                        output.write(resource.read())\n",
    "                        output.close()\n",
    "                    else:\n",
    "                        raise TypeError\n",
    "                except Exception as e:              #catches type error along with other errors\n",
    "                    print(f'fail with error {e}')\n",
    "        numero=numero+1\n",
    "\n",
    "driver.close()"
   ]
  },
  {
   "cell_type": "code",
   "execution_count": 6,
   "id": "cfebdaa5",
   "metadata": {},
   "outputs": [],
   "source": [
    "save_folder=\"FotosEtafashion\"\n"
   ]
  },
  {
   "cell_type": "code",
   "execution_count": 7,
   "id": "744bd499",
   "metadata": {},
   "outputs": [],
   "source": [
    "service = Service(executable_path=r'C:\\Users\\Ricardo\\Documents\\GitHub\\scraper\\chromedriver.exe')\n",
    "driver = webdriver.Chrome(service=service)#OJO CON ESTO, AQUI DEBEN PONER EL PATH DE CHROMEDRIVER\n",
    "driver.get(\"https://www.google.com\")"
   ]
  },
  {
   "cell_type": "code",
   "execution_count": 8,
   "id": "6b656a3d",
   "metadata": {},
   "outputs": [
    {
     "name": "stderr",
     "output_type": "stream",
     "text": [
      "C:\\Users\\Ricardo\\AppData\\Local\\Temp/ipykernel_19484/695774328.py:14: DeprecationWarning: find_elements_by_* commands are deprecated. Please use find_elements() instead\n",
      "  sub=driver.find_elements_by_xpath('//div[@class=\"product-item\"]/a/img')\n"
     ]
    },
    {
     "name": "stdout",
     "output_type": "stream",
     "text": [
      "https://www.etafashion.com/medias/5000000849424-900x1200-0.jpg?context=bWFzdGVyfGltYWdlc3w1NzU3NXxpbWFnZS9qcGVnfGgxOS9oOTQvMTMxNjk1NzIyNDk2MzAvNTAwMDAwMDg0OTQyNC05MDB4MTIwMF8wLmpwZ3w5ZjgwNTlhZjA3ODkxMGJjYTUyMDk1NzdhYTBkMDRjZDExODlhN2M2N2NjYTY3Zjc5YjdhOTdlZjRkYTA0N2Mx\n",
      "https://www.etafashion.com/medias/5000000878076-900x1200-0.jpg?context=bWFzdGVyfGltYWdlc3wxMDU4ODd8aW1hZ2UvanBlZ3xoNTIvaDRjLzE0NDM4MTA4NzI1Mjc4LzUwMDAwMDA4NzgwNzYtOTAweDEyMDBfMC5qcGd8YWNkOWI3MTA1NDM3NWVmNDczNTMwOTIzNjUxOGI1ZGFjYjk3NWM4ZDE2Y2JjYTQ5ZGFiYWU1Mjc2MTk0MDExZg\n",
      "https://www.etafashion.com/medias/5000000877772-900x1200-0.jpg?context=bWFzdGVyfGltYWdlc3w2NDY5M3xpbWFnZS9qcGVnfGg5YS9oNzgvMTQ0MzgwODM0OTM5MTgvNTAwMDAwMDg3Nzc3Mi05MDB4MTIwMF8wLmpwZ3xmNWNiNjc1MTM4NTA5OTk1NWEzZjUxYjY3MWRjYTE5MDI5YTE3MTBiMTk4OTdjMTE1NjBjOWE3YTUwZmVjYjVh\n",
      "https://www.etafashion.com/medias/5000000879827-900x1200-0.jpg?context=bWFzdGVyfGltYWdlc3w5MTc0NnxpbWFnZS9qcGVnfGhlNi9oMGEvMTQ0MzgwNzE5OTIzNTAvNTAwMDAwMDg3OTgyNy05MDB4MTIwMF8wLmpwZ3w3ODU5MmIwMzA0MWFlNjBmMmZmOGI2YTllYjk5MTU1MDlkNTQ0Mjk0OGQwZmE4NDkyNWU0ZTMzZTkxYzMwYjcx\n",
      "https://www.etafashion.com/medias/5000000878098-900x1200-0.jpg?context=bWFzdGVyfGltYWdlc3w2NzI3MnxpbWFnZS9qcGVnfGhmNy9oMDEvMTQ0Mzc5NTQzMjI0NjIvNTAwMDAwMDg3ODA5OC05MDB4MTIwMF8wLmpwZ3w3YjhmZGJlNmQyOTk1MDg0ZmU5MjJjYzA5NDlkMzYzNzU0OTNmZTk5MTRjNGI2MjU4ZDk2OWU1YTVlNGUzODY4\n",
      "https://www.etafashion.com/medias/5000000878077-900x1200-0.jpg?context=bWFzdGVyfGltYWdlc3wxMjM3NTJ8aW1hZ2UvanBlZ3xoYjgvaGIwLzE0NDM3Nzk1MDA0NDQ2LzUwMDAwMDA4NzgwNzctOTAweDEyMDBfMC5qcGd8ZWIwY2QzNmUyOWViNjBkYTMzMjQyZDNiOTk0NzJiYjFhYmNlNGQyZWViNzA2NTk5NTYwNDc4YzcxZjUzNDIwMA\n",
      "https://www.etafashion.com/medias/5000000877975-900x1200-0.jpg?context=bWFzdGVyfGltYWdlc3w0NzcyOXxpbWFnZS9qcGVnfGhjMi9oZmMvMTQ0MzgwNDAwNDM1NTAvNTAwMDAwMDg3Nzk3NS05MDB4MTIwMF8wLmpwZ3w3NTU1ZjhjZDZhNDk4YTI3NWQ1NDdmNDVhNDgwYWJkZGQ2ZjAyMDI1NmE1MDI2MTJmYzliY2M2YjI1NjM5ODIw\n",
      "https://www.etafashion.com/medias/5000000874529-900x1200-0.jpg?context=bWFzdGVyfGltYWdlc3wzMTc5NzN8aW1hZ2UvanBlZ3xoNDkvaDdiLzE0NDEzMDk4MDI0OTkwLzUwMDAwMDA4NzQ1MjktOTAweDEyMDBfMC5qcGd8YWNiYzMxZDdhYWRmYjIyMGNmZDI3OTVjZWJkZTYwOGZjNWNmOTNhYmI1YjU3NWE0NTdhZTI5YjQ3NDYzMGM4Yw\n",
      "https://www.etafashion.com/medias/5000000874528-900x1200-0.jpg?context=bWFzdGVyfGltYWdlc3wzMjc0NDd8aW1hZ2UvanBlZ3xoOTkvaDdiLzE0NDEzMDI3NzcwMzk4LzUwMDAwMDA4NzQ1MjgtOTAweDEyMDBfMC5qcGd8ODIwNDZiMTdmMjg3YmQ3ODdlYzEyNWNkNmU1MWI3NGIxODgyMTVmMzRjOGM5MjY1MWIyNTc1NjFmODk4YTlhZg\n",
      "https://www.etafashion.com/medias/5000000860005-900x1200-7.jpg?context=bWFzdGVyfGltYWdlc3w0NDUwNzd8aW1hZ2UvanBlZ3xoOTgvaDg1LzEyOTk5MzY3Njg4MjIyLzUwMDAwMDA4NjAwMDUtOTAweDEyMDBfNy5qcGd8OWIxYzMzMzc2NDgxNTUxNTExMjViMmJkOTk2YzEyOTk4YmM1MmQxZTRkZmMzMjQ0NDk4MjNjNTRhMDNmYTg1OA\n",
      "https://www.etafashion.com/medias/5000000849628-900x1200-0.jpg?context=bWFzdGVyfGltYWdlc3w3NDgyN3xpbWFnZS9qcGVnfGhmZS9oNzIvMTMyNDA2ODEzOTgzMDIvNTAwMDAwMDg0OTYyOC05MDB4MTIwMF8wLmpwZ3w1ODY2ZjI3NTQ0YzMzZWQxMmUzYjc4YTU4NGYyNmIyZGJjYjkwNTUzNjkwNDY1M2ZkMDkyNDI0NjFlYjA4Yzkw\n",
      "https://www.etafashion.com/medias/5000000866487-900x1200-5.jpg?context=bWFzdGVyfGltYWdlc3wxMDQxMjF8aW1hZ2UvanBlZ3xoY2QvaGZjLzEyOTI4NzQxNzM2NDc4LzUwMDAwMDA4NjY0ODctOTAweDEyMDBfNS5qcGd8MTA1NTAwOWVlNGMwZjE3ODc5MThlMTY3ZDg3ZWJjMWQwOTA1YjllZTI0ODI2NzE2Yjg2YWU5ZTgyMGZmNzVjMw\n",
      "https://www.etafashion.com/medias/5000000876739-900x1200-0.jpg?context=bWFzdGVyfGltYWdlc3w1OTAwMXxpbWFnZS9qcGVnfGhjYi9oNjMvMTQ0MTcyNDM2Njg1MTAvNTAwMDAwMDg3NjczOS05MDB4MTIwMF8wLmpwZ3w1MzJlNGJjYjY0YzJiZGM1ZDFhODI4NDNiOTEzNzQzYzk2NDE4NDQxYmU4MDZiMTFhNTBkY2Y4ZmYxMmI3MzBl\n",
      "https://www.etafashion.com/medias/5000000874950-900x1200-0.jpg?context=bWFzdGVyfGltYWdlc3w2MzAzNnxpbWFnZS9qcGVnfGhmYy9oYjYvMTQ0MjA4NDI1MTI0MTQvNTAwMDAwMDg3NDk1MC05MDB4MTIwMF8wLmpwZ3xkNWU1ZGJkNGY0YzQxMTQyNDJkZTFhZjIyYTY2MTE0ZGIwNTkwNTZlZmFkMTc2NWMzZjY3NDc4ZTNiNGE5ZDBj\n",
      "https://www.etafashion.com/medias/5000000869556-900x1200-0.jpg?context=bWFzdGVyfGltYWdlc3w3NDY3NXxpbWFnZS9qcGVnfGhhMC9oZGIvMTQ0MjA4NTYyNzQ5NzQvNTAwMDAwMDg2OTU1Ni05MDB4MTIwMF8wLmpwZ3wwMDg4Y2MzNDBiYTUxM2IxNDVhZDE3OTI4ZGU2MDZkZTMxZjA3OTc1YzQzMDM4ZmVkZDY5NGZlYmY1OWI3ZTRj\n",
      "https://www.etafashion.com/medias/5000000876798-900x1200-0.jpg?context=bWFzdGVyfGltYWdlc3w1MzkxNHxpbWFnZS9qcGVnfGhhNC9oYzYvMTQ0MTcyNDQ0NTQ5NDIvNTAwMDAwMDg3Njc5OC05MDB4MTIwMF8wLmpwZ3xkMmFhN2Q4NzMzN2U4YjEzMTk2NzEyNjI0OTE3YjhjNDgzNDkzZGU0MDkzMzQ3M2M4NzNkOTZiODg0NTcwOTM0\n",
      "https://www.etafashion.com/medias/5000000876738-900x1200-0.jpg?context=bWFzdGVyfGltYWdlc3w2MjU1NnxpbWFnZS9qcGVnfGhlYy9oNzMvMTQ0MjA4MjM4Njc0MjIvNTAwMDAwMDg3NjczOC05MDB4MTIwMF8wLmpwZ3xlNWVhNzYxOWQwNDJkYzNkZTAxYWNjODhjMjU4YTdjZjhkMjUzNDA3YjA5NDdlNzdkZWEyZDA3MzdlMmQ2N2U5\n",
      "https://www.etafashion.com/medias/5000000876797-900x1200-0.jpg?context=bWFzdGVyfGltYWdlc3w3NzkwNXxpbWFnZS9qcGVnfGgxNi9oODAvMTQ0MjA4NTIzMTAwNDYvNTAwMDAwMDg3Njc5Ny05MDB4MTIwMF8wLmpwZ3w0YTZhM2U4OWZmOGUxMmVjZGI2YzdmNDY3NTRhMTcwMTk0MWRjZDY2OTNmMjlmODI0NWQ2ZWQ0OTc5ZDA1NmQ1\n",
      "https://www.etafashion.com/medias/5000000868939-900x1200-0.jpg?context=bWFzdGVyfGltYWdlc3wxMDM3MjZ8aW1hZ2UvanBlZ3xoYTEvaDViLzE0NDIwODQxOTg4MTI2LzUwMDAwMDA4Njg5MzktOTAweDEyMDBfMC5qcGd8MGE0Nzc3NzA5ZTI2NDcwYTE2OWJjM2ExYTQyNjFkMWE4NWNjZGRlMTFhZDdkZDg5YjJiMTQxOWI4ZTdhN2JmZQ\n",
      "https://www.etafashion.com/medias/5000000868940-900x1200-0.jpg?context=bWFzdGVyfGltYWdlc3wxMjg2MzV8aW1hZ2UvanBlZ3xoMzcvaDc0LzE0NDIwODM2NDgzMTAyLzUwMDAwMDA4Njg5NDAtOTAweDEyMDBfMC5qcGd8MzljMDY0MDFjZmRiYWIwZGI1MDNhZWU2YjY2YmVkOGEwNTgwODk1NTEyNDE2YjEwNWIxZTA2NDJjMTljODE1OA\n",
      "https://www.etafashion.com/medias/5000000876796-900x1200-0.jpg?context=bWFzdGVyfGltYWdlc3w1NzkyM3xpbWFnZS9qcGVnfGg1OS9oY2IvMTQ0MjA4NTY3MDA5NTgvNTAwMDAwMDg3Njc5Ni05MDB4MTIwMF8wLmpwZ3w0ZTM1NWM2NTg4YzI5MmY2MGZjODhiM2RhMDg5NzJlYmJjNmFlN2VlOTYwNDZhNzBlMzNhMjQ4NmY3OGM0M2Rh\n",
      "https://www.etafashion.com/medias/5000000876740-900x1200-0.jpg?context=bWFzdGVyfGltYWdlc3w4NTE2OHxpbWFnZS9qcGVnfGg0Mi9oY2YvMTQ0MjA4NDc3NTUyOTQvNTAwMDAwMDg3Njc0MC05MDB4MTIwMF8wLmpwZ3xiMTg0ZjVmMGZlODY4YzgyNGNjMDk0ZDE0ZDkyYzU2ZDM5MDE0OGYyMjNiNTk1OTU1NGIzYWU0NjRjNWM0NGY1\n",
      "https://www.etafashion.com/medias/5000000879954-900x1200-0.jpg?context=bWFzdGVyfGltYWdlc3w2OTAwNnxpbWFnZS9qcGVnfGgwMi9oNjQvMTQ0MjA4MzY5MDkwODYvNTAwMDAwMDg3OTk1NC05MDB4MTIwMF8wLmpwZ3xhNjIzM2YyYjMyMjdiNmYxMjFlMmUyNzQ1NDU2YTkxZDIyNDJjOWJhMDk5MWM5MmFjMGU0MWJhMjM1Y2M3ZGQw\n",
      "https://www.etafashion.com/medias/5000000869980-900x1200-0.jpg?context=bWFzdGVyfGltYWdlc3w3MDkwNnxpbWFnZS9qcGVnfGgxMy9oNjMvMTQ0MjA4MjU5NjQ1NzQvNTAwMDAwMDg2OTk4MC05MDB4MTIwMF8wLmpwZ3w0MDgxZjc1NWEyNTEwODNlN2Q2ODlmYTdmOTIzZDgyNGUxNmNmZjE5MzY5M2ZjZDJjNWE2ZDM1MjVlNjFjOWQ3\n",
      "https://www.etafashion.com/medias/5000000869557-900x1200-0.jpg?context=bWFzdGVyfGltYWdlc3w2NjIxM3xpbWFnZS9qcGVnfGhmZi9oYzcvMTQ0MjA4NTU2NTIzODIvNTAwMDAwMDg2OTU1Ny05MDB4MTIwMF8wLmpwZ3w3YTE4NWJkYWNmYmQwNTFiMzNkN2UwYjE4ZDBjNjEyM2I3OTRiNTQxYTgzMGIyMTRiYTFmNDRhYjUwY2RlMTQy\n",
      "https://www.etafashion.com/medias/5000000842038-900x1200-0.jpg?context=bWFzdGVyfGltYWdlc3w0MTYwMjR8aW1hZ2UvanBlZ3xoYjkvaGZmLzEwMTY3MTQ3MTM1MDA2LzUwMDAwMDA4NDIwMzgtOTAweDEyMDBfMC5qcGd8OTJjZTc5ODllZjRiMzYzOTY0ZmViNTg4ZjIyZTNkZjgzMGEzYzZlZjBlYWRhOGEzMTYyYWM4Y2RlYmE2ZGQxMw\n",
      "https://www.etafashion.com/medias/5000000853743-900x1200-0.jpg?context=bWFzdGVyfGltYWdlc3wzMzYzMjl8aW1hZ2UvanBlZ3xoOGQvaDY4LzExMjY2NTUyMjk5NTUwLzUwMDAwMDA4NTM3NDMtOTAweDEyMDBfMC5qcGd8ZTlhYWI2NzE4OTk5MDMyODU2NjVkYzNlYTg1NTdkYTk1MTFjNDE5MjI2NDUwMjY1YjE5OWUzNjY3MWYyMjdlYw\n",
      "https://www.etafashion.com/medias/5000000846519-900x1200-0.jpg?context=bWFzdGVyfGltYWdlc3w0NDkxNzR8aW1hZ2UvanBlZ3xoNTYvaDIyLzExNjY2Mzk4ODA2MDQ2LzUwMDAwMDA4NDY1MTktOTAweDEyMDBfMC5qcGd8ODdhMjA0NGI2OTkxNGZmMmI2YzRkMGI4ZmQ1NTEwNDM1YjYxMjA3ODcyZGIxZmQ1NTQ4MjQ0NmFmZTdjMjhkNg\n",
      "https://www.etafashion.com/medias/5000000848927-900x1200-0.jpg?context=bWFzdGVyfGltYWdlc3w5Mzk3OHxpbWFnZS9qcGVnfGhlMC9oZTkvMTA4NTU5OTA0OTMyMTQvNTAwMDAwMDg0ODkyNy05MDB4MTIwMF8wLmpwZ3w0MGVjOGUwMThkOTFkNTExYTFjYjc4ZDViOGUzZThmOWNlNWZmMjI5MDgyODg3YzAyNjgxYTJkNzE3N2JiN2Ni\n",
      "https://www.etafashion.com/medias/5000000849466-900x1200-0.jpg?context=bWFzdGVyfGltYWdlc3w5NzM0NHxpbWFnZS9qcGVnfGg3ZC9oNjEvMTE2NjYzNjA3Mjk2MzAvNTAwMDAwMDg0OTQ2Ni05MDB4MTIwMF8wLmpwZ3wyZmIxYzE4MjRlMGU0NzgyYzEwYWIzNTQxZjk1MTM5NTVkMThlMzQwNzc0OTdkYzNmYzZjODM5ZmY2MjUwMTZm\n",
      "https://www.etafashion.com/medias/5000000842039-900x1200-0.jpg?context=bWFzdGVyfGltYWdlc3wzNzA5MjV8aW1hZ2UvanBlZ3xoZWEvaDI1LzEwMTY3MTQwNDgzMTAyLzUwMDAwMDA4NDIwMzktOTAweDEyMDBfMC5qcGd8MzUzZWRhYjMyNjdhZTNiOWNhMzhiNGE4MTlmNWQ0ODg5ZmJiNjUzMTgzNDEwNjMxNGQ2N2U5M2YwM2IzZmY1Mw\n"
     ]
    },
    {
     "name": "stdout",
     "output_type": "stream",
     "text": [
      "https://www.etafashion.com/medias/5000000875794-900x1200-0.jpg?context=bWFzdGVyfGltYWdlc3w3MDUyMXxpbWFnZS9qcGVnfGgyNy9oYjUvMTI3ODEzNDgyOTA1OTAvNTAwMDAwMDg3NTc5NC05MDB4MTIwMF8wLmpwZ3xlMGY5MjE2NDIwZmRkMTRmMjYzNmQxMDU0NjFjYjQ4YjM3M2YyN2VhOTcwYjRkNGUxZmU5NjNhZjMzM2QwZTRh\n",
      "https://www.etafashion.com/medias/5000000863973-900x1200-0.jpg?context=bWFzdGVyfGltYWdlc3wxMDYyNjN8aW1hZ2UvanBlZ3xoODYvaDY5LzExMjA2NTU5OTI0MjU0LzUwMDAwMDA4NjM5NzMtOTAweDEyMDBfMC5qcGd8YzNjYjNhMWMxMjFiMTY4MjA2ZGRmNTE4NjRmMzA1ZDNkNTFjNzgwZWQ2MmUyMmFjMTViZmIyNGExYmUyNTdjZA\n",
      "https://www.etafashion.com/medias/5000000845691-900x1200-0.jpg?context=bWFzdGVyfGltYWdlc3wxNDE1Njh8aW1hZ2UvanBlZ3xoY2MvaGRiLzExNjY2Mzg3NDY4MzE4LzUwMDAwMDA4NDU2OTEtOTAweDEyMDBfMC5qcGd8MDhlMWU5MTkyYmRlZGQyNzRiMGUyNzBiNGY5ZDgzNDE5ZGE1N2I3NTkzNDMwODk1NTAwNDI3NzNkYzQ3OWYyNQ\n",
      "https://www.etafashion.com/medias/5000000848139-900x1200-1.jpg?context=bWFzdGVyfGltYWdlc3wzNjE1MDN8aW1hZ2UvanBlZ3xoYzcvaDI3LzEwNTU3ODcxMjkyNDQ2LzUwMDAwMDA4NDgxMzktOTAweDEyMDBfMS5qcGd8NGU2ZjBkNzE0ZTJjNjQ3YjcwZTYxZGExYzAwZWY3YzZiYjc4MGQwODU4NjZiOTBiOGFjMTI0Yjk5Njc1NzAxZQ\n",
      "https://www.etafashion.com/medias/5000000862938-900x1200-0.jpg?context=bWFzdGVyfGltYWdlc3wzNTc3MjZ8aW1hZ2UvanBlZ3xoMmIvaDE1LzExMjY2NTcyNjQ4NDc4LzUwMDAwMDA4NjI5MzgtOTAweDEyMDBfMC5qcGd8ZjcxYmJmNWUxZTE2NjVhMzgxYmNjMmE0MTI5ZWQ1OTQyNDljMWIyOTcyMzgxMzgwZTllZDNiN2M2YjY4NzBiMA\n",
      "https://www.etafashion.com/medias/5000000848930-900x1200-0.jpg?context=bWFzdGVyfGltYWdlc3w5MjY2M3xpbWFnZS9qcGVnfGg1NC9oZWYvMTA4NjE1NTExNTcyNzgvNTAwMDAwMDg0ODkzMC05MDB4MTIwMF8wLmpwZ3wzOGVlNThhNDc2NTM4OGZiYTc1ZWYwN2UzODQ0NDhmZjUzNjZlZTEyYmExNTBkMWQ1YWFhMmY5ZmU3ZTYzNDA3\n",
      "https://www.etafashion.com/medias/5000000846520-900x1200-0.jpg?context=bWFzdGVyfGltYWdlc3wzMjI5NTR8aW1hZ2UvanBlZ3xoMGMvaGRmLzExNjY2MzcwMjk3ODg2LzUwMDAwMDA4NDY1MjAtOTAweDEyMDBfMC5qcGd8OWYzZmZjZDNmZTk1YWVhMjQ4ZjYxNTdjYmU3ZmY2ZDg1MmU4ZTc1YTY4YzY5Nzc2OWY3NjBjOGNlOTg2Mzc2OA\n",
      "https://www.etafashion.com/medias/5000000866835-900x1200-0.jpg?context=bWFzdGVyfGltYWdlc3wzMzYzNTZ8aW1hZ2UvanBlZ3xoYjgvaDM5LzEyNTQwOTUzNjkwMTQyLzUwMDAwMDA4NjY4MzUtOTAweDEyMDBfMC5qcGd8YTdiNzU4MGUyMmU4ZmVmMDk4MjZlZThjZjQxNWNhMGU4ZjVkMjQ3YzQ2MDMzZjU2MzQ3MGMyZTQ1M2NjZTAxYg\n",
      "https://www.etafashion.com/medias/5000000848928-900x1200-1.jpg?context=bWFzdGVyfGltYWdlc3wxMjE1NzN8aW1hZ2UvanBlZ3xoZDAvaDJlLzEwODYxNTkxMTk5Nzc0LzUwMDAwMDA4NDg5MjgtOTAweDEyMDBfMS5qcGd8YzFiODc5OTE3NzAwZjJhMDUyZDc4YTg0NDJhNDkyYWJmNTc3ZjdlMDAyZmQ4NTk5ODBkNDdiZWRmNjE2YjlhNg\n",
      "https://www.etafashion.com/medias/5000000867348-900x1200-0.jpg?context=bWFzdGVyfGltYWdlc3wzMzE3Nzh8aW1hZ2UvanBlZ3xoYmUvaDU5LzEyOTk5MzE1NzUwOTQyLzUwMDAwMDA4NjczNDgtOTAweDEyMDBfMC5qcGd8NGRmNGM1MDYwZTg3NzI2YzQyMzFhYmFmZDk2ZTJhZTNmMGY5NzVlMzAwN2Q0OTAyODljMmI2NmNmMDE0MmM2Mg\n",
      "https://www.etafashion.com/medias/5000000862926-900x1200-0.jpg?context=bWFzdGVyfGltYWdlc3w1NTYyNHxpbWFnZS9qcGVnfGhkMi9oZTQvMTM2Mjc3NTAxNTQyNzAvNTAwMDAwMDg2MjkyNi05MDB4MTIwMF8wLmpwZ3wyOTdlNzU2MDM4ZGU4NDViMmM1NmI2YjI1ODZhN2M5ODA2YzY0YWJlYzI4YjY2NDBkNmQ5OWQzNDk0YWZhNTI4\n",
      "https://www.etafashion.com/medias/5000000845882-900x1200-1.jpg?context=bWFzdGVyfGltYWdlc3w0MTI5MDd8aW1hZ2UvanBlZ3xoODUvaDhhLzEzMjc2Nzc1NzEwNzUwLzUwMDAwMDA4NDU4ODItOTAweDEyMDBfMS5qcGd8M2NlYzZmNTMzNTZmZmE2MzMwYjdkOTUzMDcwNjNmZDg0ZjdlMzEwZDk4Y2FkNjI5ZDQyMTdjOTU3MzY0YzQ3Yg\n",
      "https://www.etafashion.com/medias/5000000848138-900x1200-0.jpg?context=bWFzdGVyfGltYWdlc3wzNTk3ODJ8aW1hZ2UvanBlZ3xoZTYvaDgwLzEwNjkzNTEwNDk2Mjg2LzUwMDAwMDA4NDgxMzgtOTAweDEyMDBfMC5qcGd8MzBkOWU3NDA4ZWZiYWU1NGQxY2JmYzJlNjdhZGYxN2FiNDYyOGIwOTdlN2IzZDA5NGM4ZTExNTdjNzAzMjUwMg\n",
      "https://www.etafashion.com/medias/5000000847283-900x1200-0.jpg?context=bWFzdGVyfGltYWdlc3wyNzAzNzB8aW1hZ2UvanBlZ3xoN2UvaGU1LzEwNTg1MzI4NDUxNjE0LzUwMDAwMDA4NDcyODMtOTAweDEyMDBfMC5qcGd8NWFkYWJkY2Y5MTA1MWI4YjkxNGMyZWM0YmY3YzNjOGJjZDViZDZiZWQ2M2M1YzY1ZDRhYjIzOGUyYTAzMzA5NQ\n",
      "https://www.etafashion.com/medias/5000000867347-900x1200-0.jpg?context=bWFzdGVyfGltYWdlc3wyOTk2NzR8aW1hZ2UvanBlZ3xoNWQvaGRiLzEyOTk5MzUwOTc2NTQyLzUwMDAwMDA4NjczNDctOTAweDEyMDBfMC5qcGd8ZGZjMjAxZjM3OGE2Y2JhNzNkMzBjOGE0ZTlhOGMxYTgwYjI0Y2QxMzRkMjQ5OWM5N2ZkYmNmODA2MTRhMjYyMw\n",
      "https://www.etafashion.com/medias/5000000842077-900x1200-0.jpg?context=bWFzdGVyfGltYWdlc3wyMDg3MTJ8aW1hZ2UvanBlZ3xoNGQvaGRmLzk5Njk4NDA1NTQwMTQvNTAwMDAwMDg0MjA3Ny05MDB4MTIwMF8wLmpwZ3w1ZTZmOTE3NTJiYzE4ZDlmMTYyMGY4ZTJiMGQ2NzNiOTM4YmQzMzExOWQ2YWU3ODE0NTYxMTEwZTA0Mjg1YTQ0\n",
      "https://www.etafashion.com/medias/5000000846521-900x1200-0.jpg?context=bWFzdGVyfGltYWdlc3wyNjUyMzd8aW1hZ2UvanBlZ3xoNTYvaDFhLzExNjY2NDExNzgyMTc0LzUwMDAwMDA4NDY1MjEtOTAweDEyMDBfMC5qcGd8NzU3YTM4YzBkNGY4YzgxODNiOWMyOTA2MjY4YWNlZDdjMDhmZDU4YTAwNzdjOGUyZDllNTM5NjQxYWE2YTUyNA\n",
      "https://www.etafashion.com/medias/5000000845692-900x1200-0.jpg?context=bWFzdGVyfGltYWdlc3wxMzc4NTl8aW1hZ2UvanBlZ3xoMTgvaGNkLzExNjY2MzQxOTUzNTY2LzUwMDAwMDA4NDU2OTItOTAweDEyMDBfMC5qcGd8MTE3ZGQyYjlhNzI3OTIwOGI0YjdhNWZiYzkxYWVmOGNlNzUyODNhZjY0ZjQ3MGYzZGQ4ODFiZjBiNTMyNjFhNg\n",
      "https://www.etafashion.com/medias/5000000842040-900x1200-0.jpg?context=bWFzdGVyfGltYWdlc3wzOTM5NTB8aW1hZ2UvanBlZ3xoYjAvaDk2LzEwMTY3MTQ4MTE4MDQ2LzUwMDAwMDA4NDIwNDAtOTAweDEyMDBfMC5qcGd8N2RmOGY3OWZmNDFiMzkyMThjOWYzOTQ1MTE3OTIwZGNkMWE4NGEyZTY5NzZjOWE0MTFjNTIzYTQ2ODMyYzcwMg\n"
     ]
    }
   ],
   "source": [
    "count=0\n",
    "numero=0\n",
    "for i in range(4):\n",
    "    \n",
    "    if count<50:\n",
    "        \n",
    "        url=\"https://www.etafashion.com/es_EC/MUJERES/c/101?q=%3Amodifiedtime&page=\"+str(numero)\n",
    "        driver.get(url)\n",
    "        value = 0\n",
    "        for i in range(5):\n",
    "            driver.execute_script(\"scrollBy(\"+ str(value) +\",+1000);\")\n",
    "            value += 1000\n",
    "            time.sleep(1)\n",
    "        sub=driver.find_elements_by_xpath('//div[@class=\"product-item\"]/a/img')\n",
    "        for j,i in enumerate(sub):\n",
    "            if count < 50:\n",
    "                src = i.get_attribute('src')                         \n",
    "                try:\n",
    "\n",
    "                    if src != None:\n",
    "                        src  = str(src)\n",
    "                        print(src)\n",
    "                        count=count+1\n",
    "                        req = urllib.request.Request(src, headers={'User-Agent': 'Mozilla/5.0 (Windows NT 10.0; Win64; x64) AppleWebKit/537.36 (KHTML, like Gecko) Chrome/80.0.3987.100 Safari/537.36'})\n",
    "                        resource = urllib.request.urlopen(req)\n",
    "                        output = open(save_folder+\"/ropa\"+str(count)+\".jpg\",\"wb\")\n",
    "                        output.write(resource.read())\n",
    "                        output.close()\n",
    "                    else:\n",
    "                        raise TypeError\n",
    "                except Exception as e:              #catches type error along with other errors\n",
    "                    print(f'fail with error {e}')\n",
    "        numero=numero+1\n",
    "\n",
    "driver.close()"
   ]
  },
  {
   "cell_type": "code",
   "execution_count": 9,
   "id": "e8da53b4",
   "metadata": {},
   "outputs": [],
   "source": [
    "save_folder=\"FotosDeprati\""
   ]
  },
  {
   "cell_type": "code",
   "execution_count": 10,
   "id": "70ad697d",
   "metadata": {},
   "outputs": [],
   "source": [
    "service = Service(executable_path=r'C:\\Users\\Ricardo\\Documents\\GitHub\\scraper\\chromedriver.exe')\n",
    "driver = webdriver.Chrome(service=service)#OJO CON ESTO, AQUI DEBEN PONER EL PATH DE CHROMEDRIVER\n",
    "driver.get(\"https://www.google.com\")"
   ]
  },
  {
   "cell_type": "code",
   "execution_count": 11,
   "id": "af85d21c",
   "metadata": {},
   "outputs": [],
   "source": [
    "driver.get(\"https://www.deprati.com.ec/camisetas-/c/010202\")"
   ]
  },
  {
   "cell_type": "code",
   "execution_count": 12,
   "id": "14929233",
   "metadata": {},
   "outputs": [],
   "source": [
    "value = 0\n",
    "for i in range(5):\n",
    "        driver.execute_script(\"scrollBy(\"+ str(value) +\",+1000);\")\n",
    "        value += 1000\n",
    "        time.sleep(1)"
   ]
  },
  {
   "cell_type": "code",
   "execution_count": 13,
   "id": "b33b0f14",
   "metadata": {},
   "outputs": [
    {
     "name": "stderr",
     "output_type": "stream",
     "text": [
      "C:\\Users\\Ricardo\\AppData\\Local\\Temp/ipykernel_19484/3104205059.py:1: DeprecationWarning: find_elements_by_* commands are deprecated. Please use find_elements() instead\n",
      "  sub=driver.find_elements_by_xpath('//div[@class=\"product--listing product--grid\"]/div/a/img')\n"
     ]
    }
   ],
   "source": [
    "sub=driver.find_elements_by_xpath('//div[@class=\"product--listing product--grid\"]/div/a/img')"
   ]
  },
  {
   "cell_type": "code",
   "execution_count": 14,
   "id": "4e6b2c32",
   "metadata": {
    "scrolled": true
   },
   "outputs": [
    {
     "name": "stdout",
     "output_type": "stream",
     "text": [
      "https://images.deprati.com.ec/sys-master/images/h20/h51/10355264192542/5715206085304-0_product_300Wx450H\n",
      "https://images.deprati.com.ec/sys-master/images/h0c/hdf/10355160186910/5715101579632-0_product_300Wx450H\n",
      "https://images.deprati.com.ec/sys-master/images/h8f/h92/10294846554142/8445323532180-0_product_300Wx450H\n",
      "https://images.deprati.com.ec/sys-master/images/h53/ha5/10294880698398/8445323589986-0_product_300Wx450H\n",
      "https://images.deprati.com.ec/sys-master/images/h5b/h18/10294890102814/8445323590685-0_product_300Wx450H\n",
      "https://images.deprati.com.ec/sys-master/images/h96/h20/10294866018334/8445323536492-0_product_300Wx450H\n",
      "https://images.deprati.com.ec/sys-master/images/h7f/h82/10294919364638/8445323596243-0_product_300Wx450H\n",
      "https://images.deprati.com.ec/sys-master/images/h2d/hf8/10294601744414/8445323151503-0_product_300Wx450H\n",
      "https://images.deprati.com.ec/sys-master/images/hd4/hb9/10295171416094/8445323851274-0_product_300Wx450H\n",
      "https://images.deprati.com.ec/sys-master/images/h6c/hcb/10294800187422/8445323495522-0_product_300Wx450H\n",
      "https://images.deprati.com.ec/sys-master/images/hf8/h7a/10294841376798/8445323528565-0_product_300Wx450H\n",
      "https://images.deprati.com.ec/sys-master/images/hb2/hd8/10374088884254/16344094-0_product_300Wx450H\n",
      "https://images.deprati.com.ec/sys-master/images/h1e/h27/10355228606494/5715111452987-0_product_300Wx450H\n",
      "https://images.deprati.com.ec/sys-master/images/h0c/h24/10372670652446/16409085-0_product_300Wx450H\n",
      "https://images.deprati.com.ec/sys-master/images/h6d/h91/10355148292126/5715101240501-0_product_300Wx450H\n",
      "https://images.deprati.com.ec/sys-master/images/h42/h51/10366827036702/16317715-0_product_300Wx450H\n",
      "https://images.deprati.com.ec/sys-master/images/hc7/hb7/10364400074782/16394553-0_product_300Wx450H\n",
      "https://images.deprati.com.ec/sys-master/images/hf8/h97/10364394602526/16394254-0_product_300Wx450H\n",
      "https://images.deprati.com.ec/sys-master/images/hf2/h07/10321726439454/16269502-0_product_300Wx450H\n",
      "https://images.deprati.com.ec/sys-master/images/h90/h2b/10357415149598/16258689-0_product_300Wx450H\n",
      "https://images.deprati.com.ec/sys-master/images/h49/h43/10357481603102/16320118-0_product_300Wx450H\n",
      "https://images.deprati.com.ec/sys-master/images/h9c/h0d/10363180974110/16333113-0_product_300Wx450H\n",
      "https://images.deprati.com.ec/sys-master/images/hfa/hf8/10362531545118/16270957-0_product_300Wx450H\n",
      "https://images.deprati.com.ec/sys-master/images/h7d/hb4/10360489050142/16393728-0_product_300Wx450H\n",
      "https://images.deprati.com.ec/sys-master/images/h75/h71/10370453143582/16386482-0_product_300Wx450H\n",
      "https://images.deprati.com.ec/sys-master/images/hb9/hbc/10315993907230/16375881-0_product_300Wx450H\n",
      "https://images.deprati.com.ec/sys-master/images/hdb/hf6/10334001299486/16394077-0_product_300Wx450H\n",
      "https://images.deprati.com.ec/sys-master/images/h26/h53/10330837975070/16394129-0_product_300Wx450H\n",
      "https://images.deprati.com.ec/sys-master/images/ha8/h9c/10330438467614/16341272-0_product_300Wx450H\n",
      "https://images.deprati.com.ec/sys-master/images/h94/h98/10327074832414/16267642-0_product_300Wx450H\n",
      "https://images.deprati.com.ec/sys-master/images/hd2/hd1/10334014996510/16394248-0_product_300Wx450H\n",
      "https://images.deprati.com.ec/sys-master/images/h82/hb0/10371406495774/16344191-0_product_300Wx450H\n",
      "https://images.deprati.com.ec/sys-master/images/h4c/h6d/10359676043294/16407021-0_product_300Wx450H\n",
      "https://images.deprati.com.ec/sys-master/images/h53/hc2/10321766613022/16301738-0_product_300Wx450H\n",
      "https://images.deprati.com.ec/sys-master/images/hde/h2d/10340229316638/16386382-0_product_300Wx450H\n",
      "https://images.deprati.com.ec/sys-master/images/h51/h70/10354955714590/16319330-0_product_300Wx450H\n",
      "https://images.deprati.com.ec/sys-master/images/hd8/hc1/10338804793374/16316098-0_product_300Wx450H\n",
      "https://images.deprati.com.ec/sys-master/images/h29/h6f/10338842017822/16316996-0_product_300Wx450H\n",
      "https://images.deprati.com.ec/sys-master/images/h32/he0/10354946441246/16316965-0_product_300Wx450H\n",
      "https://images.deprati.com.ec/sys-master/images/h27/h4a/10339034529822/16394464-0_product_300Wx450H\n",
      "https://images.deprati.com.ec/sys-master/images/h32/h51/10339042885662/16394469-0_product_300Wx450H\n",
      "https://images.deprati.com.ec/sys-master/images/hd2/hca/10352013443102/16317728-0_product_300Wx450H\n",
      "https://images.deprati.com.ec/sys-master/images/hff/h33/10353317117982/16322383-0_product_300Wx450H\n",
      "https://images.deprati.com.ec/sys-master/images/hf7/hbc/10338838249502/16316977-0_product_300Wx450H\n",
      "https://images.deprati.com.ec/sys-master/images/h47/h85/10338799943710/16316093-0_product_300Wx450H\n",
      "https://images.deprati.com.ec/sys-master/images/hbb/h08/10370226094110/16392334-0_product_300Wx450H\n",
      "https://images.deprati.com.ec/sys-master/images/h50/h66/10346528800798/16344112-0_product_300Wx450H\n",
      "https://images.deprati.com.ec/sys-master/images/hcc/hd8/10291049758750/16332106-0_product_300Wx450H\n",
      "https://images.deprati.com.ec/sys-master/images/h3c/hc6/10340098375710/5715108474992-0_product_300Wx450H\n",
      "https://images.deprati.com.ec/sys-master/images/h9e/h76/10338823831582/16316130-0_product_300Wx450H\n"
     ]
    }
   ],
   "source": [
    "count=0\n",
    "for j,i in enumerate(sub):\n",
    "    if j < 50:\n",
    "        src = i.get_attribute('src')                         \n",
    "        try:\n",
    "            if src != None:\n",
    "                src  = str(src)\n",
    "                print(src)\n",
    "\n",
    "                req = urllib.request.Request(src, headers={'User-Agent': 'Mozilla/5.0 (Windows NT 10.0; Win64; x64) AppleWebKit/537.36 (KHTML, like Gecko) Chrome/80.0.3987.100 Safari/537.36'})\n",
    "                resource = urllib.request.urlopen(req)\n",
    "                output = open(save_folder+\"/ropa\"+str(j)+\".jpg\",\"wb\")\n",
    "                output.write(resource.read())\n",
    "                output.close()\n",
    "            else:\n",
    "                raise TypeError\n",
    "        except Exception as e:              #catches type error along with other errors\n",
    "            print(f'fail with error {e}')\n",
    "\n",
    "driver.close()"
   ]
  },
  {
   "cell_type": "code",
   "execution_count": null,
   "id": "0fb65594",
   "metadata": {},
   "outputs": [],
   "source": []
  }
 ],
 "metadata": {
  "kernelspec": {
   "display_name": "Python 3 (ipykernel)",
   "language": "python",
   "name": "python3"
  },
  "language_info": {
   "codemirror_mode": {
    "name": "ipython",
    "version": 3
   },
   "file_extension": ".py",
   "mimetype": "text/x-python",
   "name": "python",
   "nbconvert_exporter": "python",
   "pygments_lexer": "ipython3",
   "version": "3.9.7"
  }
 },
 "nbformat": 4,
 "nbformat_minor": 5
}
